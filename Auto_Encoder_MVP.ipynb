{
  "nbformat": 4,
  "nbformat_minor": 0,
  "metadata": {
    "colab": {
      "name": "Auto_Encoder_MVP.ipynb",
      "provenance": [],
      "private_outputs": true,
      "collapsed_sections": [
        "38aCXICFoz55"
      ]
    },
    "kernelspec": {
      "display_name": "Python 3",
      "language": "python",
      "name": "python3"
    },
    "language_info": {
      "codemirror_mode": {
        "name": "ipython",
        "version": 3
      },
      "file_extension": ".py",
      "mimetype": "text/x-python",
      "name": "python",
      "nbconvert_exporter": "python",
      "pygments_lexer": "ipython3",
      "version": "3.7.6"
    }
  },
  "cells": [
    {
      "cell_type": "markdown",
      "metadata": {
        "colab_type": "text",
        "id": "kgdLqZi5sa4A"
      },
      "source": [
        "# Imports and Installs"
      ]
    },
    {
      "cell_type": "code",
      "metadata": {
        "id": "eI_0n7zzumGV",
        "colab_type": "code",
        "colab": {}
      },
      "source": [
        "# Imports\n",
        "import pandas as pd\n",
        "import numpy as np \n",
        "import pandas_profiling \n",
        "from sklearn import preprocessing # for category encoder\n",
        "from sklearn.neighbors import NearestNeighbors\n",
        "from sklearn.model_selection import train_test_split\n",
        "# much more efficient for larger files like Nearest Neighbors which the model\n",
        "import joblib"
      ],
      "execution_count": 0,
      "outputs": []
    },
    {
      "cell_type": "code",
      "metadata": {
        "id": "GuXor5ics6t4",
        "colab_type": "code",
        "colab": {}
      },
      "source": [
        "# Read in data\n",
        "df = pd.read_csv('https://raw.githubusercontent.com/aguilargallardo/DS-Unit-2-Applied-Modeling/master/data/SpotifyFeatures.csv')\n",
        "\n",
        "\n",
        "df = df.dropna() # drop null values"
      ],
      "execution_count": 0,
      "outputs": []
    },
    {
      "cell_type": "code",
      "metadata": {
        "id": "Q0waFzIOxi99",
        "colab_type": "code",
        "colab": {}
      },
      "source": [
        "df.shape"
      ],
      "execution_count": 0,
      "outputs": []
    },
    {
      "cell_type": "markdown",
      "metadata": {
        "id": "TnJsmHPSs1EM",
        "colab_type": "text"
      },
      "source": [
        "## Neural Network\n",
        "\n",
        "#### Preprocessing"
      ]
    },
    {
      "cell_type": "code",
      "metadata": {
        "id": "jvw155X9swUe",
        "colab_type": "code",
        "colab": {}
      },
      "source": [
        "time_sig_encoding = { '0/4' : 0, '1/4' : 1, \n",
        "                     '3/4' : 3, '4/4' : 4,\n",
        "                     '5/4' : 5}\n",
        "\n",
        "key_encoding = { 'A' : 0, 'A#' : 1, 'B' : 2,\n",
        "                'C' : 3,  'C#' : 4,  'D' : 5,\n",
        "                'D#' : 6, 'E' : 7, 'F' : 8,\n",
        "                'F#' : 9, 'G' : 10, ' G#' : 11 }\n",
        "\n",
        "mode_encoding = { 'Major':0, 'Minor':1}      \n",
        "\n",
        "df['key'] = df['key'].map(key_encoding)\n",
        "df['time_signature'] = df['time_signature'].map(time_sig_encoding)\n",
        "df['mode'] = df['mode'].map(mode_encoding)\n",
        "\n",
        "# helper function to one hot encode genre\n",
        "\n",
        "def encode_and_bind(original_dataframe, feature_to_encode):\n",
        "    dummies = pd.get_dummies(original_dataframe[[feature_to_encode]])\n",
        "    res = pd.concat([original_dataframe, dummies], axis=1)\n",
        "    return(res)\n",
        "\n",
        "df = encode_and_bind(df, 'genre')\n",
        "\n",
        "df = df.dropna() # drop null values again not sure why it created null values"
      ],
      "execution_count": 0,
      "outputs": []
    },
    {
      "cell_type": "code",
      "metadata": {
        "colab_type": "code",
        "id": "2VusgmXCqSyp",
        "colab": {}
      },
      "source": [
        "# check worked out\n",
        "df.dtypes"
      ],
      "execution_count": 0,
      "outputs": []
    },
    {
      "cell_type": "markdown",
      "metadata": {
        "colab_type": "text",
        "id": "Zw-EHBcot9td"
      },
      "source": [
        "# MODELING: Nearest Neighbors\n",
        "resources: https://scikit-learn.org/stable/modules/neighbors.html"
      ]
    },
    {
      "cell_type": "code",
      "metadata": {
        "colab_type": "code",
        "id": "KE5ePbh_KCxb",
        "colab": {}
      },
      "source": [
        "neigh = NearestNeighbors()"
      ],
      "execution_count": 0,
      "outputs": []
    },
    {
      "cell_type": "code",
      "metadata": {
        "colab_type": "code",
        "id": "hGlvDu8lQfRf",
        "colab": {}
      },
      "source": [
        "# to remove the transformed columns from model \n",
        "remove = ['key', 'mode','time_signature']\n",
        "features = [i for i in list(df.columns[4:]) if i not in remove]\n",
        "# target = 'track_id'"
      ],
      "execution_count": 0,
      "outputs": []
    },
    {
      "cell_type": "code",
      "metadata": {
        "colab_type": "code",
        "id": "dsJSuEj6Q1eT",
        "colab": {}
      },
      "source": [
        "X = df[features]\n",
        "# y = df[target]\n",
        "\n",
        "X.shape, #y.shape"
      ],
      "execution_count": 0,
      "outputs": []
    },
    {
      "cell_type": "code",
      "metadata": {
        "colab_type": "code",
        "id": "D4kA2zQmORy3",
        "colab": {}
      },
      "source": [
        "neigh.fit(X) # NN doesn't need to fit Y"
      ],
      "execution_count": 0,
      "outputs": []
    },
    {
      "cell_type": "markdown",
      "metadata": {
        "id": "QNSNGvqAy-O0",
        "colab_type": "text"
      },
      "source": [
        "### Autoencoder"
      ]
    },
    {
      "cell_type": "code",
      "metadata": {
        "id": "rdbT3ZwQy90X",
        "colab_type": "code",
        "colab": {}
      },
      "source": [
        "from tensorflow.keras.layers import Input, Dense\n",
        "from tensorflow.keras.models import Model"
      ],
      "execution_count": 0,
      "outputs": []
    },
    {
      "cell_type": "code",
      "metadata": {
        "id": "dVtHqcRYzF-o",
        "colab_type": "code",
        "colab": {}
      },
      "source": [
        "encoding_dim = 32  # 32 floats -> compression of factor 24.5, assuming the input is 784 floats"
      ],
      "execution_count": 0,
      "outputs": []
    },
    {
      "cell_type": "code",
      "metadata": {
        "id": "Q8NHqdLqzVlS",
        "colab_type": "code",
        "colab": {}
      },
      "source": [
        "from sklearn.neighbors import NearestNeighbors\n",
        "\n",
        "nn = NearestNeighbors(n_neighbors=10, algorithm='ball_tree')\n",
        "nn.fit(encoded_imgs)"
      ],
      "execution_count": 0,
      "outputs": []
    },
    {
      "cell_type": "markdown",
      "metadata": {
        "id": "Clkrrf3CT3Xb",
        "colab_type": "text"
      },
      "source": [
        "#### Nicole's Imported Model"
      ]
    },
    {
      "cell_type": "code",
      "metadata": {
        "id": "AAeGBkjVlZxP",
        "colab_type": "code",
        "colab": {}
      },
      "source": [
        "# K nearest neighbors NN https://www.reddit.com/r/MachineLearning/comments/2f8jff/using_neural_networks_for_nearest_neighbor/"
      ],
      "execution_count": 0,
      "outputs": []
    },
    {
      "cell_type": "code",
      "metadata": {
        "id": "bGXUhYMZvZBq",
        "colab_type": "code",
        "colab": {}
      },
      "source": [
        " import numpy as np"
      ],
      "execution_count": 0,
      "outputs": []
    },
    {
      "cell_type": "code",
      "metadata": {
        "id": "8VFmCCJhwI0G",
        "colab_type": "code",
        "colab": {}
      },
      "source": [
        " # feed foward neural network, multi-lauyer perceptron\n",
        "np.random.seed(812)\n",
        "\n",
        "# input layer- 3 inputs: hours studying, hours sleep\n",
        "X = np.array(([0,0,1],\n",
        "              [0,1,1],\n",
        "              [1,0,1],\n",
        "              [0,1,0],\n",
        "              [1,0,0],\n",
        "              [1,1,1],\n",
        "              [0,0,0]), dtype=float)\n",
        "\n",
        "# Exam Scores\n",
        "y = np.array(([0],\n",
        "              [1],\n",
        "              [1],\n",
        "              [1],\n",
        "              [1],\n",
        "              [0],\n",
        "              [0],\n",
        "              [0]), dtype=float)"
      ],
      "execution_count": 0,
      "outputs": []
    },
    {
      "cell_type": "code",
      "metadata": {
        "id": "1iEkg80iwY1R",
        "colab_type": "code",
        "colab": {}
      },
      "source": [
        "# Feature normalization\n",
        "# Normalizing Data on feature (because or model will train faster)\n",
        "# Neural Network would probably do this on its own, but it will help us converge on a solution faster\n",
        "X = X / np.amax(X, axis=0)\n",
        "y = y / 100\n",
        "\n",
        "print(\"Studying, Sleeping \\n\", X)\n",
        "print(\"Test Score \\n\", y)"
      ],
      "execution_count": 0,
      "outputs": []
    },
    {
      "cell_type": "code",
      "metadata": {
        "id": "gOdKobR1wfCt",
        "colab_type": "code",
        "colab": {}
      },
      "source": [
        "# neural network class for function (REVIEW THIS CELL)\n",
        "class NeuralNetwork:\n",
        "    def __init__(self):\n",
        "        # Set up Architecture of Neural Network\n",
        "        self.inputs = 3\n",
        "        self.hiddenNodes = 4\n",
        "        self.outputNodes = 1\n",
        "\n",
        "        # Initial Weights\n",
        "        # 3x7 Matrix Array for the First Layer: inputs to hidden\n",
        "        self.weights1 = np.random.rand(self.inputs, self.hiddenNodes)\n",
        "       \n",
        "        # 7x1 Matrix Array for Hidden to Output\n",
        "        self.weights2 = np.random.rand(self.hiddenNodes, self.outputNodes)"
      ],
      "execution_count": 0,
      "outputs": []
    },
    {
      "cell_type": "markdown",
      "metadata": {
        "id": "38aCXICFoz55",
        "colab_type": "text"
      },
      "source": [
        "# Export Model with Joblib"
      ]
    },
    {
      "cell_type": "code",
      "metadata": {
        "id": "4SBVgLGvn8hS",
        "colab_type": "code",
        "colab": {}
      },
      "source": [
        "filename = 'NearestNeighbor.sav'"
      ],
      "execution_count": 0,
      "outputs": []
    },
    {
      "cell_type": "code",
      "metadata": {
        "id": "kLfmVJiKoN8X",
        "colab_type": "code",
        "colab": {}
      },
      "source": [
        "joblib.dump(neigh, filename)"
      ],
      "execution_count": 0,
      "outputs": []
    }
  ]
}