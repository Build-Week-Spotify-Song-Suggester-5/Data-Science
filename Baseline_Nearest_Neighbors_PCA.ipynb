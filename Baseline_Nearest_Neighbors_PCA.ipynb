{
 "cells": [
  {
   "cell_type": "markdown",
   "metadata": {
    "colab_type": "text",
    "id": "kgdLqZi5sa4A"
   },
   "source": [
    "# Imports and Installs"
   ]
  },
  {
   "cell_type": "code",
   "execution_count": 1,
   "metadata": {
    "colab": {},
    "colab_type": "code",
    "id": "IzCZwfItsOVX"
   },
   "outputs": [],
   "source": [
    "# install latest version of polyglot language detection library for stretch\n",
    "# !pip install -U git+https://github.com/aboSamoor/polyglot.git@master\n",
    "\n",
    "!pip install plotly"
   ]
  },
  {
   "cell_type": "code",
   "execution_count": 2,
   "metadata": {
    "colab": {},
    "colab_type": "code",
    "id": "e2BCdkR4U5SR"
   },
   "outputs": [],
   "source": [
    "import pandas as pd\n",
    "import numpy as np \n",
    "#import pandas_profiling \n",
    "from sklearn import preprocessing # for category encoder\n",
    "# from polyglot.detect import Detector # for language detection stretch\n",
    "from sklearn.neighbors import NearestNeighbors\n",
    "from sklearn.model_selection import train_test_split\n",
    "# much more efficient for larger files like Nearest Neighbors which the model\n",
    "import joblib\n",
    "import plotly.express as px\n"
   ]
  },
  {
   "cell_type": "code",
   "execution_count": null,
   "metadata": {},
   "outputs": [],
   "source": [
    "def create_web_chart(df):\n",
    "    music_features = ['acousticness', 'danceability', 'energy', 'instrumentalness', 'liveness', 'speechiness', 'valence']\n",
    "    \n",
    "    fig = go.Figure()\n",
    "\n",
    "    for idx, row in df.iterrows():\n",
    "        # vals = list(df.iloc[idx][music_features].values)\n",
    "        row_df = pd.DataFrame(df.loc[idx][music_features].T).reset_index().rename(columns={idx:'values', 'index':'feature'})\n",
    "        fig.add_trace(go.Scatterpolar(\n",
    "                                    r=row_df['values'],\n",
    "                                    theta=row_df['feature'],\n",
    "                                    fill='toself',\n",
    "                                    name= f'{row.artist_name} - {row.track_name}'\n",
    "                    ))\n",
    "    # fig.show()\n",
    "    return fig\n",
    "\n",
    "fig = create_web_chart(df.iloc[0:5])\n",
    "fig.show()\n",
    "\n"
   ]
  },
  {
   "cell_type": "code",
   "execution_count": null,
   "metadata": {},
   "outputs": [],
   "source": [
    "first_song_values = list(df.iloc[0][music_features].values)\n",
    "second_song_values = list(df.iloc[1][music_features].values)\n",
    "\n",
    "fig = px.bar(first_song_df, x='feature', y=\"values\", color='feature')\n",
    "fig.show()"
   ]
  },
  {
   "cell_type": "code",
   "execution_count": null,
   "metadata": {},
   "outputs": [],
   "source": [
    "fig.add_trace(go.Scatterpolar(\n",
    "      r=second_song_df['values'],\n",
    "      theta=second_song_df['feature'],\n",
    "      fill='toself',\n",
    "      name='Second Song'\n",
    "))\n",
    "\n",
    "fig.update_layout(\n",
    "  polar=dict(\n",
    "    radialaxis=dict(\n",
    "      visible=True,\n",
    "      range=[0, 1]\n",
    "    )),\n",
    "  showlegend=True\n",
    ")\n",
    "\n",
    "fig.show()"
   ]
  },
  {
   "cell_type": "markdown",
   "metadata": {
    "colab_type": "text",
    "id": "RA1kLoqhsemw"
   },
   "source": [
    "# EDA & PROFILE REPORT"
   ]
  },
  {
   "cell_type": "code",
   "execution_count": 3,
   "metadata": {
    "colab": {},
    "colab_type": "code",
    "id": "mGRbNKAzU-sp"
   },
   "outputs": [],
   "source": [
    "df = pd.read_csv('https://raw.githubusercontent.com/aguilargallardo/DS-Unit-2-Applied-Modeling/master/data/SpotifyFeatures.csv')\n",
    "# commented out profile report because it takes forever to run\n",
    "# pandas_profiling.ProfileReport(df)"
   ]
  },
  {
   "cell_type": "markdown",
   "metadata": {
    "colab_type": "text",
    "id": "l3YOD4aFtUfj"
   },
   "source": [
    "# DATA ENGINEERING CATEGORY ENCODING OF OBJECT FEATURES\n",
    "note: might need to create another column of encoded languages\n",
    "resources below: https://chrisalbon.com/machine_learning/preprocessing_structured_data/convert_pandas_categorical_column_into_integers_for_scikit-learn/\n"
   ]
  },
  {
   "cell_type": "code",
   "execution_count": 5,
   "metadata": {
    "colab": {},
    "colab_type": "code",
    "id": "ZPBCYrRgj0GC"
   },
   "outputs": [
    {
     "data": {
      "text/plain": [
       "'\\n   TODO: figure out UTF-8 ERROR or just do try catch exception and return \\n   unknown or something\\n   below code does not work\\n'"
      ]
     },
     "execution_count": 5,
     "metadata": {},
     "output_type": "execute_result"
    }
   ],
   "source": [
    "# # test of polyglot detector\n",
    "\n",
    "# arabic_text = u\"\"\"\n",
    "# أفاد مصدر امني في قيادة عمليات صلاح الدين في العراق بأن \" القوات الامنية تتوقف لليوم\n",
    "# الثالث على التوالي عن التقدم الى داخل مدينة تكريت بسبب\n",
    "# انتشار قناصي التنظيم الذي يطلق على نفسه اسم \"الدولة الاسلامية\" والعبوات الناسفة\n",
    "# والمنازل المفخخة والانتحاريين، فضلا عن ان القوات الامنية تنتظر وصول تعزيزات اضافية \".\n",
    "# \"\"\"\n",
    "\n",
    "# detector = Detector(arabic_text)\n",
    "# print(detector.language)\n",
    "\n",
    "\"\"\"\n",
    "   TODO: figure out UTF-8 ERROR or just do try catch exception and return \n",
    "   unknown or something\n",
    "   below code does not work\n",
    "\"\"\"\n",
    "\n",
    "# df.track_name = df.track_name.astype(str)\n",
    "# df['poly_obj'] = df.track_name.apply(lambda x: Detector(x, quiet=True))\n",
    "# df['Track-lang'] = df['poly_obj'].apply(lambda x: icu.Locale.getDisplayName(x.language.locale))\n",
    "# df['Track-LangConfidence'] = df['poly_obj'].apply( lambda x: x.language.confidence)\n"
   ]
  },
  {
   "cell_type": "code",
   "execution_count": 8,
   "metadata": {
    "colab": {},
    "colab_type": "code",
    "id": "Ye5e46vbZdHJ"
   },
   "outputs": [],
   "source": [
    "df = df.dropna() # drop null values\n",
    "\n",
    "time_sig_encoding = { '0/4' : 0, '1/4' : 1, \n",
    "                     '3/4' : 3, '4/4' : 4,\n",
    "                     '5/4' : 5}\n",
    "\n",
    "key_encoding = { 'A' : 0, 'A#' : 1, 'B' : 2,\n",
    "                'C' : 3,  'C#' : 4,  'D' : 5,\n",
    "                'D#' : 6, 'E' : 7, 'F' : 8,\n",
    "                'F#' : 9, 'G' : 10, 'G#' : 11 }\n",
    "\n",
    "mode_encoding = { 'Major':0, 'Minor':1}      \n",
    "\n",
    "df['key'] = df['key'].map(key_encoding)\n",
    "df['time_signature'] = df['time_signature'].map(time_sig_encoding)\n",
    "df['mode'] = df['mode'].map(mode_encoding)\n",
    "\n",
    "# helper function to one hot encode genre\n",
    "\n",
    "def encode_and_bind(original_dataframe, feature_to_encode):\n",
    "    dummies = pd.get_dummies(original_dataframe[[feature_to_encode]])\n",
    "    res = pd.concat([original_dataframe, dummies], axis=1)\n",
    "    return(res)\n",
    "\n",
    "df = encode_and_bind(df, 'genre')\n",
    "\n",
    "# df = df.dropna() # drop null values again not sure why it created null values"
   ]
  },
  {
   "cell_type": "code",
   "execution_count": 10,
   "metadata": {
    "colab": {},
    "colab_type": "code",
    "id": "GHo9s6IAyls2"
   },
   "outputs": [
    {
     "data": {
      "text/html": [
       "<div>\n",
       "<style scoped>\n",
       "    .dataframe tbody tr th:only-of-type {\n",
       "        vertical-align: middle;\n",
       "    }\n",
       "\n",
       "    .dataframe tbody tr th {\n",
       "        vertical-align: top;\n",
       "    }\n",
       "\n",
       "    .dataframe thead th {\n",
       "        text-align: right;\n",
       "    }\n",
       "</style>\n",
       "<table border=\"1\" class=\"dataframe\">\n",
       "  <thead>\n",
       "    <tr style=\"text-align: right;\">\n",
       "      <th></th>\n",
       "      <th>genre</th>\n",
       "      <th>artist_name</th>\n",
       "      <th>track_name</th>\n",
       "      <th>track_id</th>\n",
       "      <th>popularity</th>\n",
       "      <th>acousticness</th>\n",
       "      <th>danceability</th>\n",
       "      <th>duration_ms</th>\n",
       "      <th>energy</th>\n",
       "      <th>instrumentalness</th>\n",
       "      <th>...</th>\n",
       "      <th>genre_Pop</th>\n",
       "      <th>genre_R&amp;B</th>\n",
       "      <th>genre_Rap</th>\n",
       "      <th>genre_Reggae</th>\n",
       "      <th>genre_Reggaeton</th>\n",
       "      <th>genre_Rock</th>\n",
       "      <th>genre_Ska</th>\n",
       "      <th>genre_Soul</th>\n",
       "      <th>genre_Soundtrack</th>\n",
       "      <th>genre_World</th>\n",
       "    </tr>\n",
       "  </thead>\n",
       "  <tbody>\n",
       "    <tr>\n",
       "      <th>9027</th>\n",
       "      <td>Dance</td>\n",
       "      <td>Ariana Grande</td>\n",
       "      <td>7 rings</td>\n",
       "      <td>14msK75pk3pA33pzPVNtBF</td>\n",
       "      <td>100</td>\n",
       "      <td>0.578000</td>\n",
       "      <td>0.725</td>\n",
       "      <td>178640</td>\n",
       "      <td>0.321</td>\n",
       "      <td>0.000000</td>\n",
       "      <td>...</td>\n",
       "      <td>0</td>\n",
       "      <td>0</td>\n",
       "      <td>0</td>\n",
       "      <td>0</td>\n",
       "      <td>0</td>\n",
       "      <td>0</td>\n",
       "      <td>0</td>\n",
       "      <td>0</td>\n",
       "      <td>0</td>\n",
       "      <td>0</td>\n",
       "    </tr>\n",
       "    <tr>\n",
       "      <th>107804</th>\n",
       "      <td>Pop</td>\n",
       "      <td>Ariana Grande</td>\n",
       "      <td>7 rings</td>\n",
       "      <td>14msK75pk3pA33pzPVNtBF</td>\n",
       "      <td>100</td>\n",
       "      <td>0.578000</td>\n",
       "      <td>0.725</td>\n",
       "      <td>178640</td>\n",
       "      <td>0.321</td>\n",
       "      <td>0.000000</td>\n",
       "      <td>...</td>\n",
       "      <td>1</td>\n",
       "      <td>0</td>\n",
       "      <td>0</td>\n",
       "      <td>0</td>\n",
       "      <td>0</td>\n",
       "      <td>0</td>\n",
       "      <td>0</td>\n",
       "      <td>0</td>\n",
       "      <td>0</td>\n",
       "      <td>0</td>\n",
       "    </tr>\n",
       "    <tr>\n",
       "      <th>86951</th>\n",
       "      <td>Rap</td>\n",
       "      <td>Post Malone</td>\n",
       "      <td>Wow.</td>\n",
       "      <td>6MWtB6iiXyIwun0YzU6DFP</td>\n",
       "      <td>99</td>\n",
       "      <td>0.163000</td>\n",
       "      <td>0.833</td>\n",
       "      <td>149520</td>\n",
       "      <td>0.539</td>\n",
       "      <td>0.000002</td>\n",
       "      <td>...</td>\n",
       "      <td>0</td>\n",
       "      <td>0</td>\n",
       "      <td>1</td>\n",
       "      <td>0</td>\n",
       "      <td>0</td>\n",
       "      <td>0</td>\n",
       "      <td>0</td>\n",
       "      <td>0</td>\n",
       "      <td>0</td>\n",
       "      <td>0</td>\n",
       "    </tr>\n",
       "    <tr>\n",
       "      <th>107803</th>\n",
       "      <td>Pop</td>\n",
       "      <td>Post Malone</td>\n",
       "      <td>Wow.</td>\n",
       "      <td>6MWtB6iiXyIwun0YzU6DFP</td>\n",
       "      <td>99</td>\n",
       "      <td>0.163000</td>\n",
       "      <td>0.833</td>\n",
       "      <td>149520</td>\n",
       "      <td>0.539</td>\n",
       "      <td>0.000002</td>\n",
       "      <td>...</td>\n",
       "      <td>1</td>\n",
       "      <td>0</td>\n",
       "      <td>0</td>\n",
       "      <td>0</td>\n",
       "      <td>0</td>\n",
       "      <td>0</td>\n",
       "      <td>0</td>\n",
       "      <td>0</td>\n",
       "      <td>0</td>\n",
       "      <td>0</td>\n",
       "    </tr>\n",
       "    <tr>\n",
       "      <th>107802</th>\n",
       "      <td>Pop</td>\n",
       "      <td>Ariana Grande</td>\n",
       "      <td>break up with your girlfriend, i'm bored</td>\n",
       "      <td>4kV4N9D1iKVxx1KLvtTpjS</td>\n",
       "      <td>99</td>\n",
       "      <td>0.042100</td>\n",
       "      <td>0.726</td>\n",
       "      <td>190440</td>\n",
       "      <td>0.554</td>\n",
       "      <td>0.000000</td>\n",
       "      <td>...</td>\n",
       "      <td>1</td>\n",
       "      <td>0</td>\n",
       "      <td>0</td>\n",
       "      <td>0</td>\n",
       "      <td>0</td>\n",
       "      <td>0</td>\n",
       "      <td>0</td>\n",
       "      <td>0</td>\n",
       "      <td>0</td>\n",
       "      <td>0</td>\n",
       "    </tr>\n",
       "    <tr>\n",
       "      <th>...</th>\n",
       "      <td>...</td>\n",
       "      <td>...</td>\n",
       "      <td>...</td>\n",
       "      <td>...</td>\n",
       "      <td>...</td>\n",
       "      <td>...</td>\n",
       "      <td>...</td>\n",
       "      <td>...</td>\n",
       "      <td>...</td>\n",
       "      <td>...</td>\n",
       "      <td>...</td>\n",
       "      <td>...</td>\n",
       "      <td>...</td>\n",
       "      <td>...</td>\n",
       "      <td>...</td>\n",
       "      <td>...</td>\n",
       "      <td>...</td>\n",
       "      <td>...</td>\n",
       "      <td>...</td>\n",
       "      <td>...</td>\n",
       "      <td>...</td>\n",
       "    </tr>\n",
       "    <tr>\n",
       "      <th>195435</th>\n",
       "      <td>Movie</td>\n",
       "      <td>Sally Dworsky</td>\n",
       "      <td>Inside Out</td>\n",
       "      <td>5d5BLVzCOxhgN02r2XqPWw</td>\n",
       "      <td>0</td>\n",
       "      <td>0.000305</td>\n",
       "      <td>0.456</td>\n",
       "      <td>241400</td>\n",
       "      <td>0.804</td>\n",
       "      <td>0.000018</td>\n",
       "      <td>...</td>\n",
       "      <td>0</td>\n",
       "      <td>0</td>\n",
       "      <td>0</td>\n",
       "      <td>0</td>\n",
       "      <td>0</td>\n",
       "      <td>0</td>\n",
       "      <td>0</td>\n",
       "      <td>0</td>\n",
       "      <td>0</td>\n",
       "      <td>0</td>\n",
       "    </tr>\n",
       "    <tr>\n",
       "      <th>195434</th>\n",
       "      <td>Movie</td>\n",
       "      <td>Mike Douglas</td>\n",
       "      <td>September Song</td>\n",
       "      <td>5VSpKjPu6bud6KHyyWQrJ1</td>\n",
       "      <td>0</td>\n",
       "      <td>0.839000</td>\n",
       "      <td>0.331</td>\n",
       "      <td>282720</td>\n",
       "      <td>0.221</td>\n",
       "      <td>0.000189</td>\n",
       "      <td>...</td>\n",
       "      <td>0</td>\n",
       "      <td>0</td>\n",
       "      <td>0</td>\n",
       "      <td>0</td>\n",
       "      <td>0</td>\n",
       "      <td>0</td>\n",
       "      <td>0</td>\n",
       "      <td>0</td>\n",
       "      <td>0</td>\n",
       "      <td>0</td>\n",
       "    </tr>\n",
       "    <tr>\n",
       "      <th>195433</th>\n",
       "      <td>Movie</td>\n",
       "      <td>Keith David</td>\n",
       "      <td>The Christmas Story</td>\n",
       "      <td>5JdfRifr7rjLNy9kegVu5z</td>\n",
       "      <td>0</td>\n",
       "      <td>0.653000</td>\n",
       "      <td>0.604</td>\n",
       "      <td>207040</td>\n",
       "      <td>0.365</td>\n",
       "      <td>0.000097</td>\n",
       "      <td>...</td>\n",
       "      <td>0</td>\n",
       "      <td>0</td>\n",
       "      <td>0</td>\n",
       "      <td>0</td>\n",
       "      <td>0</td>\n",
       "      <td>0</td>\n",
       "      <td>0</td>\n",
       "      <td>0</td>\n",
       "      <td>0</td>\n",
       "      <td>0</td>\n",
       "    </tr>\n",
       "    <tr>\n",
       "      <th>195432</th>\n",
       "      <td>Movie</td>\n",
       "      <td>Charlton Heston</td>\n",
       "      <td>Chorus: Come And Go With Me</td>\n",
       "      <td>5IF0TxLi4Jzo0qEdxhZbUy</td>\n",
       "      <td>0</td>\n",
       "      <td>0.972000</td>\n",
       "      <td>0.482</td>\n",
       "      <td>83667</td>\n",
       "      <td>0.312</td>\n",
       "      <td>0.000000</td>\n",
       "      <td>...</td>\n",
       "      <td>0</td>\n",
       "      <td>0</td>\n",
       "      <td>0</td>\n",
       "      <td>0</td>\n",
       "      <td>0</td>\n",
       "      <td>0</td>\n",
       "      <td>0</td>\n",
       "      <td>0</td>\n",
       "      <td>0</td>\n",
       "      <td>0</td>\n",
       "    </tr>\n",
       "    <tr>\n",
       "      <th>0</th>\n",
       "      <td>Movie</td>\n",
       "      <td>Henri Salvador</td>\n",
       "      <td>C'est beau de faire un Show</td>\n",
       "      <td>0BRjO6ga9RKCKjfDqeFgWV</td>\n",
       "      <td>0</td>\n",
       "      <td>0.611000</td>\n",
       "      <td>0.389</td>\n",
       "      <td>99373</td>\n",
       "      <td>0.910</td>\n",
       "      <td>0.000000</td>\n",
       "      <td>...</td>\n",
       "      <td>0</td>\n",
       "      <td>0</td>\n",
       "      <td>0</td>\n",
       "      <td>0</td>\n",
       "      <td>0</td>\n",
       "      <td>0</td>\n",
       "      <td>0</td>\n",
       "      <td>0</td>\n",
       "      <td>0</td>\n",
       "      <td>0</td>\n",
       "    </tr>\n",
       "  </tbody>\n",
       "</table>\n",
       "<p>232725 rows × 45 columns</p>\n",
       "</div>"
      ],
      "text/plain": [
       "        genre      artist_name                                track_name  \\\n",
       "9027    Dance    Ariana Grande                                   7 rings   \n",
       "107804    Pop    Ariana Grande                                   7 rings   \n",
       "86951     Rap      Post Malone                                      Wow.   \n",
       "107803    Pop      Post Malone                                      Wow.   \n",
       "107802    Pop    Ariana Grande  break up with your girlfriend, i'm bored   \n",
       "...       ...              ...                                       ...   \n",
       "195435  Movie    Sally Dworsky                                Inside Out   \n",
       "195434  Movie     Mike Douglas                            September Song   \n",
       "195433  Movie      Keith David                       The Christmas Story   \n",
       "195432  Movie  Charlton Heston               Chorus: Come And Go With Me   \n",
       "0       Movie   Henri Salvador               C'est beau de faire un Show   \n",
       "\n",
       "                      track_id  popularity  acousticness  danceability  \\\n",
       "9027    14msK75pk3pA33pzPVNtBF         100      0.578000         0.725   \n",
       "107804  14msK75pk3pA33pzPVNtBF         100      0.578000         0.725   \n",
       "86951   6MWtB6iiXyIwun0YzU6DFP          99      0.163000         0.833   \n",
       "107803  6MWtB6iiXyIwun0YzU6DFP          99      0.163000         0.833   \n",
       "107802  4kV4N9D1iKVxx1KLvtTpjS          99      0.042100         0.726   \n",
       "...                        ...         ...           ...           ...   \n",
       "195435  5d5BLVzCOxhgN02r2XqPWw           0      0.000305         0.456   \n",
       "195434  5VSpKjPu6bud6KHyyWQrJ1           0      0.839000         0.331   \n",
       "195433  5JdfRifr7rjLNy9kegVu5z           0      0.653000         0.604   \n",
       "195432  5IF0TxLi4Jzo0qEdxhZbUy           0      0.972000         0.482   \n",
       "0       0BRjO6ga9RKCKjfDqeFgWV           0      0.611000         0.389   \n",
       "\n",
       "        duration_ms  energy  instrumentalness  ...  genre_Pop  genre_R&B  \\\n",
       "9027         178640   0.321          0.000000  ...          0          0   \n",
       "107804       178640   0.321          0.000000  ...          1          0   \n",
       "86951        149520   0.539          0.000002  ...          0          0   \n",
       "107803       149520   0.539          0.000002  ...          1          0   \n",
       "107802       190440   0.554          0.000000  ...          1          0   \n",
       "...             ...     ...               ...  ...        ...        ...   \n",
       "195435       241400   0.804          0.000018  ...          0          0   \n",
       "195434       282720   0.221          0.000189  ...          0          0   \n",
       "195433       207040   0.365          0.000097  ...          0          0   \n",
       "195432        83667   0.312          0.000000  ...          0          0   \n",
       "0             99373   0.910          0.000000  ...          0          0   \n",
       "\n",
       "        genre_Rap  genre_Reggae  genre_Reggaeton  genre_Rock  genre_Ska  \\\n",
       "9027            0             0                0           0          0   \n",
       "107804          0             0                0           0          0   \n",
       "86951           1             0                0           0          0   \n",
       "107803          0             0                0           0          0   \n",
       "107802          0             0                0           0          0   \n",
       "...           ...           ...              ...         ...        ...   \n",
       "195435          0             0                0           0          0   \n",
       "195434          0             0                0           0          0   \n",
       "195433          0             0                0           0          0   \n",
       "195432          0             0                0           0          0   \n",
       "0               0             0                0           0          0   \n",
       "\n",
       "        genre_Soul  genre_Soundtrack  genre_World  \n",
       "9027             0                 0            0  \n",
       "107804           0                 0            0  \n",
       "86951            0                 0            0  \n",
       "107803           0                 0            0  \n",
       "107802           0                 0            0  \n",
       "...            ...               ...          ...  \n",
       "195435           0                 0            0  \n",
       "195434           0                 0            0  \n",
       "195433           0                 0            0  \n",
       "195432           0                 0            0  \n",
       "0                0                 0            0  \n",
       "\n",
       "[232725 rows x 45 columns]"
      ]
     },
     "execution_count": 10,
     "metadata": {},
     "output_type": "execute_result"
    }
   ],
   "source": [
    "df.sort_values('popularity', ascending=False)"
   ]
  },
  {
   "cell_type": "markdown",
   "metadata": {
    "colab_type": "text",
    "id": "Zw-EHBcot9td"
   },
   "source": [
    "# MODELING: Nearest Neighbors\n",
    "resources: https://scikit-learn.org/stable/modules/neighbors.html"
   ]
  },
  {
   "cell_type": "code",
   "execution_count": 25,
   "metadata": {
    "colab": {},
    "colab_type": "code",
    "id": "KE5ePbh_KCxb"
   },
   "outputs": [],
   "source": [
    "neigh = NearestNeighbors(n_neighbors=11)"
   ]
  },
  {
   "cell_type": "code",
   "execution_count": 26,
   "metadata": {
    "colab": {},
    "colab_type": "code",
    "id": "hGlvDu8lQfRf"
   },
   "outputs": [],
   "source": [
    "# to remove the transformed columns from model \n",
    "# remove = ['key', 'mode','time_signature']\n",
    "# features = [i for i in list(df.columns[4:]) if i not in remove]\n",
    "\n",
    "features = list(df.columns[4:])\n",
    "\n",
    "# target = 'track_id'"
   ]
  },
  {
   "cell_type": "code",
   "execution_count": 27,
   "metadata": {
    "colab": {},
    "colab_type": "code",
    "id": "dsJSuEj6Q1eT"
   },
   "outputs": [
    {
     "data": {
      "text/plain": [
       "(232725, 41)"
      ]
     },
     "execution_count": 27,
     "metadata": {},
     "output_type": "execute_result"
    }
   ],
   "source": [
    "X = df[features].values\n",
    "# y = df[target]\n",
    "\n",
    "X.shape # y.shape"
   ]
  },
  {
   "cell_type": "code",
   "execution_count": 28,
   "metadata": {
    "colab": {},
    "colab_type": "code",
    "id": "D4kA2zQmORy3"
   },
   "outputs": [
    {
     "name": "stdout",
     "output_type": "stream",
     "text": [
      "Wall time: 0 ns\n"
     ]
    },
    {
     "data": {
      "text/plain": [
       "NearestNeighbors(algorithm='auto', leaf_size=30, metric='minkowski',\n",
       "                 metric_params=None, n_jobs=None, n_neighbors=11, p=2,\n",
       "                 radius=1.0)"
      ]
     },
     "execution_count": 28,
     "metadata": {},
     "output_type": "execute_result"
    }
   ],
   "source": [
    "%time\n",
    "neigh.fit(X) # NN doesn't need to fit Y"
   ]
  },
  {
   "cell_type": "markdown",
   "metadata": {},
   "source": [
    "# Model Test on Song Example"
   ]
  },
  {
   "cell_type": "code",
   "execution_count": 29,
   "metadata": {
    "colab": {},
    "colab_type": "code",
    "id": "EXgOux8Y1eFF"
   },
   "outputs": [
    {
     "data": {
      "text/plain": [
       "genre                                      Dance\n",
       "artist_name                        Ariana Grande\n",
       "track_name                               7 rings\n",
       "track_id                  14msK75pk3pA33pzPVNtBF\n",
       "popularity                                   100\n",
       "acousticness                               0.578\n",
       "danceability                               0.725\n",
       "duration_ms                               178640\n",
       "energy                                     0.321\n",
       "instrumentalness                               0\n",
       "key                                            4\n",
       "liveness                                  0.0884\n",
       "loudness                                 -10.744\n",
       "mode                                           1\n",
       "speechiness                                0.323\n",
       "tempo                                     70.142\n",
       "time_signature                                 4\n",
       "valence                                    0.319\n",
       "genre_A Capella                                0\n",
       "genre_Alternative                              0\n",
       "genre_Anime                                    0\n",
       "genre_Blues                                    0\n",
       "genre_Children's Music                         0\n",
       "genre_Children’s Music                         0\n",
       "genre_Classical                                0\n",
       "genre_Comedy                                   0\n",
       "genre_Country                                  0\n",
       "genre_Dance                                    1\n",
       "genre_Electronic                               0\n",
       "genre_Folk                                     0\n",
       "genre_Hip-Hop                                  0\n",
       "genre_Indie                                    0\n",
       "genre_Jazz                                     0\n",
       "genre_Movie                                    0\n",
       "genre_Opera                                    0\n",
       "genre_Pop                                      0\n",
       "genre_R&B                                      0\n",
       "genre_Rap                                      0\n",
       "genre_Reggae                                   0\n",
       "genre_Reggaeton                                0\n",
       "genre_Rock                                     0\n",
       "genre_Ska                                      0\n",
       "genre_Soul                                     0\n",
       "genre_Soundtrack                               0\n",
       "genre_World                                    0\n",
       "Name: 9027, dtype: object"
      ]
     },
     "execution_count": 29,
     "metadata": {},
     "output_type": "execute_result"
    }
   ],
   "source": [
    "# highest ranking popularity song from Ariana Grande\n",
    "test_song = X[9027] \n",
    "\n",
    "df.iloc[9027]"
   ]
  },
  {
   "cell_type": "code",
   "execution_count": 30,
   "metadata": {
    "colab": {},
    "colab_type": "code",
    "id": "zRXHue0N1Ekk"
   },
   "outputs": [
    {
     "data": {
      "text/plain": [
       "array([[ 0.        ,  1.41421356, 27.00710509, 27.04410703, 45.58833874,\n",
       "        45.87260502, 45.87260502, 50.40417417, 55.13866387, 55.32089875,\n",
       "        56.71090497]])"
      ]
     },
     "execution_count": 30,
     "metadata": {},
     "output_type": "execute_result"
    }
   ],
   "source": [
    "distance, neighbors = neigh.kneighbors(np.array([test_song]))\n",
    "\n",
    "distance"
   ]
  },
  {
   "cell_type": "code",
   "execution_count": 31,
   "metadata": {
    "colab": {},
    "colab_type": "code",
    "id": "DSjA-vST4lVn"
   },
   "outputs": [
    {
     "data": {
      "text/plain": [
       "array([[  9027, 107804,  13706, 108810, 139423,  95537,  42041,  19588,\n",
       "         11836, 227343, 215825]], dtype=int64)"
      ]
     },
     "execution_count": 31,
     "metadata": {},
     "output_type": "execute_result"
    }
   ],
   "source": [
    "neighbors"
   ]
  },
  {
   "cell_type": "code",
   "execution_count": 38,
   "metadata": {
    "colab": {},
    "colab_type": "code",
    "id": "6q5E6F9d3rI3"
   },
   "outputs": [
    {
     "name": "stdout",
     "output_type": "stream",
     "text": [
      "Artist: Ariana Grande - Track: 7 rings (feat. 2 Chainz) - Remix\n",
      "Artist: Ariana Grande - Track: 7 rings (feat. 2 Chainz) - Remix\n",
      "Artist: Fanny Lu - Track: Romper el Hielo\n",
      "Artist: Sharon Van Etten - Track: The End of the World\n",
      "Artist: Sharon Van Etten - Track: The End of the World\n",
      "Artist: Mike Perry - Track: Body to Body\n",
      "Artist: Mon Laferte - Track: El Beso\n",
      "Artist: Madi Sipes & The Painted Blue - Track: Space\n",
      "Artist: Johnny Cash - Track: We'll Meet Again\n"
     ]
    },
    {
     "data": {
      "text/plain": [
       "[('Ariana Grande', '7 rings (feat. 2 Chainz) - Remix'),\n",
       " ('Ariana Grande', '7 rings (feat. 2 Chainz) - Remix'),\n",
       " ('Fanny Lu', 'Romper el Hielo'),\n",
       " ('Sharon Van Etten', 'The End of the World'),\n",
       " ('Sharon Van Etten', 'The End of the World'),\n",
       " ('Mike Perry', 'Body to Body'),\n",
       " ('Mon Laferte', 'El Beso'),\n",
       " ('Madi Sipes & The Painted Blue', 'Space'),\n",
       " ('Johnny Cash', \"We'll Meet Again\")]"
      ]
     },
     "execution_count": 38,
     "metadata": {},
     "output_type": "execute_result"
    }
   ],
   "source": [
    "song_list = []\n",
    "for idx in neighbors[0][2:]: # this way excludes itself\n",
    "    row = df.iloc[idx]\n",
    "    print(f'Artist: {row.artist_name} - Track: {row.track_name}')\n",
    "    song_list.append((row.artist_name, row.track_name))\n",
    "song_list"
   ]
  },
  {
   "cell_type": "markdown",
   "metadata": {},
   "source": [
    "# Helper Function to Return 10 Nearest Neighbors"
   ]
  },
  {
   "cell_type": "code",
   "execution_count": 70,
   "metadata": {},
   "outputs": [],
   "source": [
    "\"\"\"\n",
    "function for what was done manually above\n",
    "generalized for other dataframes instead of hard coded therefore:\n",
    "takes in a dataframe, a feature set array, and a song ID\n",
    "and returns a list of tuples of artist name and track names\n",
    "\"\"\"\n",
    "from typing import List, Tuple\n",
    "\n",
    "def closest_ten(df: pd.DataFrame, X_array: np.ndarray ,song_id: int) -> List[Tuple] :\n",
    "    song = df.iloc[song_id]\n",
    "    X_song = X[song_id]\n",
    "    _, neighbors = neigh.kneighbors(np.array([X_song]))\n",
    "    song_list = []\n",
    "    for idx in neighbors[0][2:]: \n",
    "        row = df.iloc[idx]\n",
    "       # print(f'Artist: {row.artist_name} - Track: {row.track_name}')\n",
    "        song_list.append((row.artist_name, row.track_name))\n",
    "    return song_list"
   ]
  },
  {
   "cell_type": "code",
   "execution_count": 71,
   "metadata": {
    "colab": {},
    "colab_type": "code",
    "id": "NXi-FUX6sbWm"
   },
   "outputs": [
    {
     "data": {
      "text/plain": [
       "[('Ariana Grande', '7 rings (feat. 2 Chainz) - Remix'),\n",
       " ('Ariana Grande', '7 rings (feat. 2 Chainz) - Remix'),\n",
       " ('Fanny Lu', 'Romper el Hielo'),\n",
       " ('Sharon Van Etten', 'The End of the World'),\n",
       " ('Sharon Van Etten', 'The End of the World'),\n",
       " ('Mike Perry', 'Body to Body'),\n",
       " ('Mon Laferte', 'El Beso'),\n",
       " ('Madi Sipes & The Painted Blue', 'Space'),\n",
       " ('Johnny Cash', \"We'll Meet Again\")]"
      ]
     },
     "execution_count": 71,
     "metadata": {},
     "output_type": "execute_result"
    }
   ],
   "source": [
    "# example of function call \n",
    "closest_ten(df, X, 9027)"
   ]
  },
  {
   "cell_type": "markdown",
   "metadata": {},
   "source": [
    "# PCA "
   ]
  },
  {
   "cell_type": "code",
   "execution_count": 77,
   "metadata": {},
   "outputs": [],
   "source": [
    "df_copy = df[features].copy()"
   ]
  },
  {
   "cell_type": "code",
   "execution_count": 84,
   "metadata": {},
   "outputs": [],
   "source": [
    "from numpy import array, mean, std, cov\n",
    "from numpy.linalg import eig\n",
    "from sklearn.preprocessing import StandardScaler\n",
    "from sklearn.decomposition import PCA"
   ]
  },
  {
   "cell_type": "code",
   "execution_count": 85,
   "metadata": {},
   "outputs": [
    {
     "name": "stdout",
     "output_type": "stream",
     "text": [
      "\n",
      " Means: popularity                    41.127502\n",
      "acousticness                   0.368560\n",
      "danceability                   0.554364\n",
      "duration_ms               235122.339306\n",
      "energy                         0.570958\n",
      "instrumentalness               0.148301\n",
      "key                            5.344467\n",
      "liveness                       0.215009\n",
      "loudness                      -9.569885\n",
      "mode                           0.347969\n",
      "speechiness                    0.120765\n",
      "tempo                        117.666585\n",
      "time_signature                 3.885148\n",
      "valence                        0.454917\n",
      "genre_A Capella                0.000511\n",
      "genre_Alternative              0.039802\n",
      "genre_Anime                    0.038397\n",
      "genre_Blues                    0.038771\n",
      "genre_Children's Music         0.023216\n",
      "genre_Children’s Music         0.040189\n",
      "genre_Classical                0.039772\n",
      "genre_Comedy                   0.041598\n",
      "genre_Country                  0.037228\n",
      "genre_Dance                    0.037387\n",
      "genre_Electronic               0.040292\n",
      "genre_Folk                     0.039957\n",
      "genre_Hip-Hop                  0.039940\n",
      "genre_Indie                    0.041005\n",
      "genre_Jazz                     0.040567\n",
      "genre_Movie                    0.033542\n",
      "genre_Opera                    0.035578\n",
      "genre_Pop                      0.040331\n",
      "genre_R&B                      0.038638\n",
      "genre_Rap                      0.039669\n",
      "genre_Reggae                   0.037688\n",
      "genre_Reggaeton                0.038359\n",
      "genre_Rock                     0.039841\n",
      "genre_Ska                      0.038131\n",
      "genre_Soul                     0.039055\n",
      "genre_Soundtrack               0.041448\n",
      "genre_World                    0.039085\n",
      "dtype: float64\n"
     ]
    }
   ],
   "source": [
    "means = df_copy.mean()\n",
    "print(\"\\n Means:\", means)\n",
    "scaler = StandardScaler()"
   ]
  },
  {
   "cell_type": "code",
   "execution_count": 90,
   "metadata": {},
   "outputs": [],
   "source": [
    "pca_X = scaler.fit_transform(df_copy.values)\n",
    "pca = PCA(2)\n",
    "df_pca = pca.fit(pca_X)"
   ]
  },
  {
   "cell_type": "code",
   "execution_count": 93,
   "metadata": {},
   "outputs": [
    {
     "name": "stdout",
     "output_type": "stream",
     "text": [
      "Wall time: 0 ns\n"
     ]
    },
    {
     "data": {
      "text/plain": [
       "NearestNeighbors(algorithm='auto', leaf_size=30, metric='minkowski',\n",
       "                 metric_params=None, n_jobs=None, n_neighbors=11, p=2,\n",
       "                 radius=1.0)"
      ]
     },
     "execution_count": 93,
     "metadata": {},
     "output_type": "execute_result"
    }
   ],
   "source": [
    "%time\n",
    "pca_neigh = NearestNeighbors(n_neighbors=11)\n",
    "pca_neigh.fit(pca_X) # NN doesn't need to fit Y"
   ]
  },
  {
   "cell_type": "markdown",
   "metadata": {
    "colab_type": "text",
    "id": "38aCXICFoz55"
   },
   "source": [
    "# Export Model with Joblib"
   ]
  },
  {
   "cell_type": "code",
   "execution_count": 20,
   "metadata": {
    "colab": {},
    "colab_type": "code",
    "id": "4SBVgLGvn8hS"
   },
   "outputs": [],
   "source": [
    "filename = 'NearestNeighborGenres.sav'"
   ]
  },
  {
   "cell_type": "code",
   "execution_count": 21,
   "metadata": {
    "colab": {},
    "colab_type": "code",
    "id": "kLfmVJiKoN8X"
   },
   "outputs": [
    {
     "data": {
      "text/plain": [
       "['NearestNeighborGenres.sav']"
      ]
     },
     "execution_count": 21,
     "metadata": {},
     "output_type": "execute_result"
    }
   ],
   "source": [
    "joblib.dump(neigh, filename)"
   ]
  },
  {
   "cell_type": "code",
   "execution_count": 95,
   "metadata": {},
   "outputs": [
    {
     "data": {
      "text/plain": [
       "['PCANearestNeighborGenres.sav']"
      ]
     },
     "execution_count": 95,
     "metadata": {},
     "output_type": "execute_result"
    }
   ],
   "source": [
    "pca_filename = 'PCANearestNeighborGenres.sav'\n",
    "joblib.dump(pca_neigh, pca_filename)"
   ]
  },
  {
   "cell_type": "code",
   "execution_count": 22,
   "metadata": {
    "colab": {},
    "colab_type": "code",
    "id": "VD4hvXIVwyRG"
   },
   "outputs": [],
   "source": [
    "# one hot encoding, rolled back\n",
    "# def encode_and_bind(original_dataframe, feature_to_encode):\n",
    "#     dummies = pd.get_dummies(original_dataframe[[feature_to_encode]])\n",
    "#     res = pd.concat([original_dataframe, dummies], axis=1)\n",
    "#     return(res)\n",
    "\n",
    "# df = encode_and_bind(df, 'key')\n",
    "# df = encode_and_bind(df, 'mode')\n",
    "# df = encode_and_bind(df, 'time_signature')"
   ]
  },
  {
   "cell_type": "markdown",
   "metadata": {},
   "source": [
    "# Export Model with Pickle"
   ]
  },
  {
   "cell_type": "code",
   "execution_count": 24,
   "metadata": {
    "colab": {},
    "colab_type": "code",
    "id": "d0G2dBalpjTx"
   },
   "outputs": [],
   "source": [
    "import pickle\n",
    "\n",
    "model = neigh\n",
    "\n",
    "filename = 'filename.pkl'\n",
    "\n",
    "with open(filename, 'wb') as f:\n",
    "    pickle.dump(model, f)\n",
    "#then send this pkl file to DE team\n",
    "\n",
    "#DE team:\n",
    "#Make sure to save the pkl file in the same folder as the app\n",
    "\n",
    "#To read it into the app:\n",
    "\n",
    "# with open(filename, 'rb') as f:\n",
    "#     model = pickle.load(f)"
   ]
  },
  {
   "cell_type": "code",
   "execution_count": null,
   "metadata": {},
   "outputs": [],
   "source": []
  }
 ],
 "metadata": {
  "colab": {
   "collapsed_sections": [],
   "name": "Spotify_Model.ipynb",
   "private_outputs": true,
   "provenance": []
  },
  "kernelspec": {
   "display_name": "U4-S2-NN",
   "language": "python",
   "name": "u4-s2-nn"
  },
  "language_info": {
   "codemirror_mode": {
    "name": "ipython",
    "version": 3
   },
   "file_extension": ".py",
   "mimetype": "text/x-python",
   "name": "python",
   "nbconvert_exporter": "python",
   "pygments_lexer": "ipython3",
   "version": "3.7.0"
  }
 },
 "nbformat": 4,
 "nbformat_minor": 4
}
