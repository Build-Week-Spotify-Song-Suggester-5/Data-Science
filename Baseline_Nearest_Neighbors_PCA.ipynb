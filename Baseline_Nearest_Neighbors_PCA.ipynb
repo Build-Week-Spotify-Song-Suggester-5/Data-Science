{
 "cells": [
  {
   "cell_type": "markdown",
   "metadata": {
    "colab_type": "text",
    "id": "kgdLqZi5sa4A"
   },
   "source": [
    "# Imports and Installs"
   ]
  },
  {
   "cell_type": "code",
   "execution_count": null,
   "metadata": {
    "colab": {},
    "colab_type": "code",
    "id": "IzCZwfItsOVX"
   },
   "outputs": [],
   "source": [
    "# install latest version of polyglot language detection library for stretch\n",
    "# !pip install -U git+https://github.com/aboSamoor/polyglot.git@master\n",
    "\n",
    "# !pip install plotly"
   ]
  },
  {
   "cell_type": "code",
   "execution_count": 1,
   "metadata": {
    "colab": {},
    "colab_type": "code",
    "id": "e2BCdkR4U5SR"
   },
   "outputs": [],
   "source": [
    "import pandas as pd\n",
    "import numpy as np \n",
    "#import pandas_profiling \n",
    "from sklearn import preprocessing # for category encoder\n",
    "# from polyglot.detect import Detector # for language detection stretch\n",
    "from sklearn.neighbors import NearestNeighbors\n",
    "from sklearn.model_selection import train_test_split\n",
    "# much more efficient for larger files like Nearest Neighbors which the model\n",
    "import joblib\n",
    "import plotly.express as px\n",
    "import plotly.graph_objects as go"
   ]
  },
  {
   "cell_type": "markdown",
   "metadata": {
    "colab_type": "text",
    "id": "RA1kLoqhsemw"
   },
   "source": [
    "# EDA & PROFILE REPORT"
   ]
  },
  {
   "cell_type": "code",
   "execution_count": 19,
   "metadata": {},
   "outputs": [
    {
     "data": {
      "text/plain": [
       "(176514, 18)"
      ]
     },
     "execution_count": 19,
     "metadata": {},
     "output_type": "execute_result"
    }
   ],
   "source": [
    "# df = pd.read_csv('https://raw.githubusercontent.com/aguilargallardo/DS-Unit-2-Applied-Modeling/master/data/SpotifyFeatures.csv')\n",
    "# df = df.dropna()\n",
    "# df = df.drop_duplicates(subset=['track_name', 'artist_name'])\n",
    "\n",
    "# df.shape\n",
    "\n",
    "# df.to_csv('spotify_unique_track_id.csv', index=False)\n",
    "# Data already has duplicate track names and nulls removed.\n",
    "df = pd.read_csv('https://raw.githubusercontent.com/Build-Week-Spotify-Song-Suggester-5/Data-Science/master/spotify_unique_track_id.csv')\n",
    "df.shape\n",
    "# raw_df = raw_df.drop_duplicates(subset='track_name')\n",
    "# raw_df.shape\n",
    "# raw_df.to_csv('spotify_unique_track_id.csv', index=False)"
   ]
  },
  {
   "cell_type": "code",
   "execution_count": 20,
   "metadata": {},
   "outputs": [
    {
     "data": {
      "text/html": [
       "<div>\n",
       "<style scoped>\n",
       "    .dataframe tbody tr th:only-of-type {\n",
       "        vertical-align: middle;\n",
       "    }\n",
       "\n",
       "    .dataframe tbody tr th {\n",
       "        vertical-align: top;\n",
       "    }\n",
       "\n",
       "    .dataframe thead th {\n",
       "        text-align: right;\n",
       "    }\n",
       "</style>\n",
       "<table border=\"1\" class=\"dataframe\">\n",
       "  <thead>\n",
       "    <tr style=\"text-align: right;\">\n",
       "      <th></th>\n",
       "      <th>genre</th>\n",
       "      <th>artist_name</th>\n",
       "      <th>track_name</th>\n",
       "      <th>track_id</th>\n",
       "      <th>popularity</th>\n",
       "      <th>acousticness</th>\n",
       "      <th>danceability</th>\n",
       "      <th>duration_ms</th>\n",
       "      <th>energy</th>\n",
       "      <th>instrumentalness</th>\n",
       "      <th>key</th>\n",
       "      <th>liveness</th>\n",
       "      <th>loudness</th>\n",
       "      <th>mode</th>\n",
       "      <th>speechiness</th>\n",
       "      <th>tempo</th>\n",
       "      <th>time_signature</th>\n",
       "      <th>valence</th>\n",
       "    </tr>\n",
       "  </thead>\n",
       "  <tbody>\n",
       "    <tr>\n",
       "      <th>0</th>\n",
       "      <td>Movie</td>\n",
       "      <td>Henri Salvador</td>\n",
       "      <td>C'est beau de faire un Show</td>\n",
       "      <td>0BRjO6ga9RKCKjfDqeFgWV</td>\n",
       "      <td>0</td>\n",
       "      <td>0.611</td>\n",
       "      <td>0.389</td>\n",
       "      <td>99373</td>\n",
       "      <td>0.91</td>\n",
       "      <td>0.0</td>\n",
       "      <td>C#</td>\n",
       "      <td>0.346</td>\n",
       "      <td>-1.828</td>\n",
       "      <td>Major</td>\n",
       "      <td>0.0525</td>\n",
       "      <td>166.969</td>\n",
       "      <td>4/4</td>\n",
       "      <td>0.814</td>\n",
       "    </tr>\n",
       "  </tbody>\n",
       "</table>\n",
       "</div>"
      ],
      "text/plain": [
       "   genre     artist_name                   track_name                track_id  \\\n",
       "0  Movie  Henri Salvador  C'est beau de faire un Show  0BRjO6ga9RKCKjfDqeFgWV   \n",
       "\n",
       "   popularity  acousticness  danceability  duration_ms  energy  \\\n",
       "0           0         0.611         0.389        99373    0.91   \n",
       "\n",
       "   instrumentalness key  liveness  loudness   mode  speechiness    tempo  \\\n",
       "0               0.0  C#     0.346    -1.828  Major       0.0525  166.969   \n",
       "\n",
       "  time_signature  valence  \n",
       "0            4/4    0.814  "
      ]
     },
     "execution_count": 20,
     "metadata": {},
     "output_type": "execute_result"
    }
   ],
   "source": [
    "df.head(1)"
   ]
  },
  {
   "cell_type": "markdown",
   "metadata": {},
   "source": [
    "# Visualizatoin Stretch Goal Stuff"
   ]
  },
  {
   "cell_type": "code",
   "execution_count": null,
   "metadata": {},
   "outputs": [],
   "source": [
    "# def create_web_chart(df):\n",
    "#     music_features = ['acousticness', 'danceability', 'energy', 'instrumentalness', 'liveness', 'speechiness', 'valence']\n",
    "    \n",
    "#     fig = go.Figure()\n",
    "\n",
    "#     for idx, row in df.iterrows():\n",
    "#         # vals = list(df.iloc[idx][music_features].values)\n",
    "#         row_df = pd.DataFrame(df.loc[idx][music_features].T).reset_index().rename(columns={idx:'values', 'index':'feature'})\n",
    "#         fig.add_trace(go.Scatterpolar(\n",
    "#                                     r=row_df['values'],\n",
    "#                                     theta=row_df['feature'],\n",
    "#                                     fill='toself',\n",
    "#                                     name= f'{row.artist_name} - {row.track_name}'\n",
    "#                     ))\n",
    "#     # fig.show()\n",
    "#     return fig\n",
    "# fig = create_web_chart(df.iloc[0:5])\n",
    "# fig.show()\n",
    "\n",
    "\n",
    "# first_song_values = list(df.iloc[0][music_features].values)\n",
    "# second_song_values = list(df.iloc[1][music_features].values)\n",
    "# fig = px.bar(first_song_df, x='feature', y=\"values\", color='feature')\n",
    "# fig.show()\n",
    "\n",
    "\n",
    "\n",
    "# fig.add_trace(go.Scatterpolar(\n",
    "#       r=second_song_df['values'],\n",
    "#       theta=second_song_df['feature'],\n",
    "#       fill='toself',\n",
    "#       name='Second Song'\n",
    "# ))\n",
    "\n",
    "# fig.update_layout(\n",
    "#   polar=dict(\n",
    "#     radialaxis=dict(\n",
    "#       visible=True,\n",
    "#       range=[0, 1]\n",
    "#     )),\n",
    "#   showlegend=True\n",
    "# )\n",
    "\n",
    "# fig.show()"
   ]
  },
  {
   "cell_type": "markdown",
   "metadata": {
    "colab_type": "text",
    "id": "l3YOD4aFtUfj"
   },
   "source": [
    "# DATA ENGINEERING CATEGORY ENCODING OF OBJECT FEATURES\n",
    "note: might need to create another column of encoded languages\n",
    "resources below: https://chrisalbon.com/machine_learning/preprocessing_structured_data/convert_pandas_categorical_column_into_integers_for_scikit-learn/\n"
   ]
  },
  {
   "cell_type": "code",
   "execution_count": null,
   "metadata": {
    "colab": {},
    "colab_type": "code",
    "id": "ZPBCYrRgj0GC"
   },
   "outputs": [],
   "source": [
    "# # test of polyglot detector\n",
    "\n",
    "# arabic_text = u\"\"\"\n",
    "# أفاد مصدر امني في قيادة عمليات صلاح الدين في العراق بأن \" القوات الامنية تتوقف لليوم\n",
    "# الثالث على التوالي عن التقدم الى داخل مدينة تكريت بسبب\n",
    "# انتشار قناصي التنظيم الذي يطلق على نفسه اسم \"الدولة الاسلامية\" والعبوات الناسفة\n",
    "# والمنازل المفخخة والانتحاريين، فضلا عن ان القوات الامنية تنتظر وصول تعزيزات اضافية \".\n",
    "# \"\"\"\n",
    "\n",
    "# detector = Detector(arabic_text)\n",
    "# print(detector.language)\n",
    "\n",
    "\n",
    "#    TODO: figure out UTF-8 ERROR or just do try catch exception and return \n",
    "#    unknown or something\n",
    "#    below code does not work\n",
    "\n",
    "\n",
    "# df.track_name = df.track_name.astype(str)\n",
    "# df['poly_obj'] = df.track_name.apply(lambda x: Detector(x, quiet=True))\n",
    "# df['Track-lang'] = df['poly_obj'].apply(lambda x: icu.Locale.getDisplayName(x.language.locale))\n",
    "# df['Track-LangConfidence'] = df['poly_obj'].apply( lambda x: x.language.confidence)"
   ]
  },
  {
   "cell_type": "markdown",
   "metadata": {},
   "source": [
    "# ENCODING OF FEATURES\n",
    "\n",
    "NOTE THAT IF YOU RUN THIS CELL AGAIN WITHOUT RESTARTING RUNTIME YOU'LL ENCODE AND BIND ANOTHER COPY OF GENRE ENCODINGS SIGNIFICANTLY INCREASING THE SIZE OF THE FEATURE SET WHILE ADDING NEGATIVE VALUE"
   ]
  },
  {
   "cell_type": "code",
   "execution_count": 21,
   "metadata": {
    "colab": {},
    "colab_type": "code",
    "id": "Ye5e46vbZdHJ"
   },
   "outputs": [],
   "source": [
    "# helper function to one hot encode genre\n",
    "def encode_and_bind(original_dataframe, feature_to_encode):\n",
    "    dummies = pd.get_dummies(original_dataframe[[feature_to_encode]])\n",
    "    res = pd.concat([original_dataframe, dummies], axis=1)\n",
    "    return(res)\n",
    "\n",
    "time_sig_encoding = { '0/4' : 0, '1/4' : 1, \n",
    "                         '3/4' : 3, '4/4' : 4,\n",
    "                         '5/4' : 5}\n",
    "\n",
    "key_encoding = { 'A' : 0, 'A#' : 1, 'B' : 2,\n",
    "                    'C' : 3,  'C#' : 4,  'D' : 5,\n",
    "                    'D#' : 6, 'E' : 7, 'F' : 8,\n",
    "                    'F#' : 9, 'G' : 10, 'G#' : 11 }\n",
    "\n",
    "mode_encoding = { 'Major':0, 'Minor':1}      \n",
    "\n",
    "df['key'] = df['key'].map(key_encoding)\n",
    "df['time_signature'] = df['time_signature'].map(time_sig_encoding)\n",
    "df['mode'] = df['mode'].map(mode_encoding)\n",
    "df = encode_and_bind(df, 'genre')    "
   ]
  },
  {
   "cell_type": "code",
   "execution_count": 22,
   "metadata": {},
   "outputs": [
    {
     "data": {
      "text/html": [
       "<div>\n",
       "<style scoped>\n",
       "    .dataframe tbody tr th:only-of-type {\n",
       "        vertical-align: middle;\n",
       "    }\n",
       "\n",
       "    .dataframe tbody tr th {\n",
       "        vertical-align: top;\n",
       "    }\n",
       "\n",
       "    .dataframe thead th {\n",
       "        text-align: right;\n",
       "    }\n",
       "</style>\n",
       "<table border=\"1\" class=\"dataframe\">\n",
       "  <thead>\n",
       "    <tr style=\"text-align: right;\">\n",
       "      <th></th>\n",
       "      <th>genre</th>\n",
       "      <th>artist_name</th>\n",
       "      <th>track_name</th>\n",
       "      <th>track_id</th>\n",
       "      <th>popularity</th>\n",
       "      <th>acousticness</th>\n",
       "      <th>danceability</th>\n",
       "      <th>duration_ms</th>\n",
       "      <th>energy</th>\n",
       "      <th>instrumentalness</th>\n",
       "      <th>...</th>\n",
       "      <th>genre_Pop</th>\n",
       "      <th>genre_R&amp;B</th>\n",
       "      <th>genre_Rap</th>\n",
       "      <th>genre_Reggae</th>\n",
       "      <th>genre_Reggaeton</th>\n",
       "      <th>genre_Rock</th>\n",
       "      <th>genre_Ska</th>\n",
       "      <th>genre_Soul</th>\n",
       "      <th>genre_Soundtrack</th>\n",
       "      <th>genre_World</th>\n",
       "    </tr>\n",
       "  </thead>\n",
       "  <tbody>\n",
       "    <tr>\n",
       "      <th>0</th>\n",
       "      <td>Movie</td>\n",
       "      <td>Henri Salvador</td>\n",
       "      <td>C'est beau de faire un Show</td>\n",
       "      <td>0BRjO6ga9RKCKjfDqeFgWV</td>\n",
       "      <td>0</td>\n",
       "      <td>0.611</td>\n",
       "      <td>0.389</td>\n",
       "      <td>99373</td>\n",
       "      <td>0.910</td>\n",
       "      <td>0.0</td>\n",
       "      <td>...</td>\n",
       "      <td>0</td>\n",
       "      <td>0</td>\n",
       "      <td>0</td>\n",
       "      <td>0</td>\n",
       "      <td>0</td>\n",
       "      <td>0</td>\n",
       "      <td>0</td>\n",
       "      <td>0</td>\n",
       "      <td>0</td>\n",
       "      <td>0</td>\n",
       "    </tr>\n",
       "    <tr>\n",
       "      <th>1</th>\n",
       "      <td>Movie</td>\n",
       "      <td>Martin &amp; les fées</td>\n",
       "      <td>Perdu d'avance (par Gad Elmaleh)</td>\n",
       "      <td>0BjC1NfoEOOusryehmNudP</td>\n",
       "      <td>1</td>\n",
       "      <td>0.246</td>\n",
       "      <td>0.590</td>\n",
       "      <td>137373</td>\n",
       "      <td>0.737</td>\n",
       "      <td>0.0</td>\n",
       "      <td>...</td>\n",
       "      <td>0</td>\n",
       "      <td>0</td>\n",
       "      <td>0</td>\n",
       "      <td>0</td>\n",
       "      <td>0</td>\n",
       "      <td>0</td>\n",
       "      <td>0</td>\n",
       "      <td>0</td>\n",
       "      <td>0</td>\n",
       "      <td>0</td>\n",
       "    </tr>\n",
       "  </tbody>\n",
       "</table>\n",
       "<p>2 rows × 45 columns</p>\n",
       "</div>"
      ],
      "text/plain": [
       "   genre        artist_name                        track_name  \\\n",
       "0  Movie     Henri Salvador       C'est beau de faire un Show   \n",
       "1  Movie  Martin & les fées  Perdu d'avance (par Gad Elmaleh)   \n",
       "\n",
       "                 track_id  popularity  acousticness  danceability  \\\n",
       "0  0BRjO6ga9RKCKjfDqeFgWV           0         0.611         0.389   \n",
       "1  0BjC1NfoEOOusryehmNudP           1         0.246         0.590   \n",
       "\n",
       "   duration_ms  energy  instrumentalness  ...  genre_Pop  genre_R&B  \\\n",
       "0        99373   0.910               0.0  ...          0          0   \n",
       "1       137373   0.737               0.0  ...          0          0   \n",
       "\n",
       "   genre_Rap  genre_Reggae  genre_Reggaeton  genre_Rock  genre_Ska  \\\n",
       "0          0             0                0           0          0   \n",
       "1          0             0                0           0          0   \n",
       "\n",
       "   genre_Soul  genre_Soundtrack  genre_World  \n",
       "0           0                 0            0  \n",
       "1           0                 0            0  \n",
       "\n",
       "[2 rows x 45 columns]"
      ]
     },
     "execution_count": 22,
     "metadata": {},
     "output_type": "execute_result"
    }
   ],
   "source": [
    "# df.genre.value_counts()\n",
    "df.head(2)"
   ]
  },
  {
   "cell_type": "markdown",
   "metadata": {
    "colab_type": "text",
    "id": "Zw-EHBcot9td"
   },
   "source": [
    "# MODELING: Nearest Neighbors\n",
    "resources: https://scikit-learn.org/stable/modules/neighbors.html"
   ]
  },
  {
   "cell_type": "code",
   "execution_count": 39,
   "metadata": {
    "colab": {},
    "colab_type": "code",
    "id": "hGlvDu8lQfRf"
   },
   "outputs": [
    {
     "name": "stdout",
     "output_type": "stream",
     "text": [
      "Wall time: 0 ns\n"
     ]
    },
    {
     "data": {
      "text/plain": [
       "NearestNeighbors(algorithm='auto', leaf_size=30, metric='minkowski',\n",
       "                 metric_params=None, n_jobs=None, n_neighbors=25, p=2,\n",
       "                 radius=1.0)"
      ]
     },
     "execution_count": 39,
     "metadata": {},
     "output_type": "execute_result"
    }
   ],
   "source": [
    "# instantiate model\n",
    "neigh = NearestNeighbors(n_neighbors=25)\n",
    "\n",
    "features = list(df.columns[4:])\n",
    "X = df[features].values\n",
    "# y = df[target]\n",
    "\n",
    "X.shape # y.shape\n",
    "# target = 'track_id'\n",
    "\n",
    "%time\n",
    "neigh.fit(X) # NN doesn't need to fit Y"
   ]
  },
  {
   "cell_type": "markdown",
   "metadata": {},
   "source": [
    "# Manual Model Test on 1 Song Example"
   ]
  },
  {
   "cell_type": "code",
   "execution_count": 41,
   "metadata": {
    "colab": {},
    "colab_type": "code",
    "id": "EXgOux8Y1eFF"
   },
   "outputs": [
    {
     "data": {
      "text/plain": [
       "genre                                      Dance\n",
       "artist_name                        Ariana Grande\n",
       "track_name                               7 rings\n",
       "track_id                  14msK75pk3pA33pzPVNtBF\n",
       "popularity                                   100\n",
       "acousticness                               0.578\n",
       "danceability                               0.725\n",
       "duration_ms                               178640\n",
       "energy                                     0.321\n",
       "instrumentalness                               0\n",
       "key                                            4\n",
       "liveness                                  0.0884\n",
       "loudness                                 -10.744\n",
       "mode                                           1\n",
       "speechiness                                0.323\n",
       "tempo                                     70.142\n",
       "time_signature                                 4\n",
       "valence                                    0.319\n",
       "genre_A Capella                                0\n",
       "genre_Alternative                              0\n",
       "genre_Anime                                    0\n",
       "genre_Blues                                    0\n",
       "genre_Children's Music                         0\n",
       "genre_Children’s Music                         0\n",
       "genre_Classical                                0\n",
       "genre_Comedy                                   0\n",
       "genre_Country                                  0\n",
       "genre_Dance                                    1\n",
       "genre_Electronic                               0\n",
       "genre_Folk                                     0\n",
       "genre_Hip-Hop                                  0\n",
       "genre_Indie                                    0\n",
       "genre_Jazz                                     0\n",
       "genre_Movie                                    0\n",
       "genre_Opera                                    0\n",
       "genre_Pop                                      0\n",
       "genre_R&B                                      0\n",
       "genre_Rap                                      0\n",
       "genre_Reggae                                   0\n",
       "genre_Reggaeton                                0\n",
       "genre_Rock                                     0\n",
       "genre_Ska                                      0\n",
       "genre_Soul                                     0\n",
       "genre_Soundtrack                               0\n",
       "genre_World                                    0\n",
       "Name: 8980, dtype: object"
      ]
     },
     "execution_count": 41,
     "metadata": {},
     "output_type": "execute_result"
    }
   ],
   "source": [
    "# highest ranking popularity song from Ariana Grande\n",
    "# df.sort_values('popularity', ascending=False)\n",
    "\n",
    "test_song = X[8980]\n",
    "df.iloc[8980]"
   ]
  },
  {
   "cell_type": "code",
   "execution_count": 25,
   "metadata": {
    "colab": {},
    "colab_type": "code",
    "id": "zRXHue0N1Ekk"
   },
   "outputs": [
    {
     "data": {
      "text/plain": [
       "(array([[ 0.        , 14.60647945, 15.83732863, 17.18483261, 18.99379891,\n",
       "         19.89857749, 20.15658815, 20.16113779, 20.77844259, 21.28437267,\n",
       "         21.44113734, 22.34923616, 23.02309785, 23.09522555, 24.43566688,\n",
       "         24.5369614 , 25.25990963, 25.39619324, 25.93901583, 26.68930665,\n",
       "         26.75912711, 28.22857614, 28.49794995, 29.11360625, 29.22800217,\n",
       "         29.39026299, 29.84156086, 30.88954642, 32.79003974, 33.33631706,\n",
       "         33.9356995 , 34.59453678, 35.34497122, 36.08540001, 36.40618131,\n",
       "         37.98235756, 38.21238371, 38.69293532, 38.76301554, 39.47355762,\n",
       "         39.69893395, 40.07321411, 40.43581361, 41.14007118, 42.03048018,\n",
       "         42.08744502, 42.23487786, 42.54548239, 43.04775896, 43.28142343]]),\n",
       " array([[  8556,   3619,  38263, 123434,  49315,  58654, 165987,  75302,\n",
       "         166094,  76351, 101568,  18828, 138345,   6036,  50759, 100003,\n",
       "         148763,  45754, 116618,   7208,  82508, 175040, 167094, 165133,\n",
       "          33422, 110258, 105330, 146377,  17846,  55864,  98294,   7407,\n",
       "          79841, 138558, 165514,  10234, 104497,  53356,  52787, 131714,\n",
       "           3665,  15441, 119320,  91664, 168794,  58621,  90571,  58204,\n",
       "         121710,  36586]], dtype=int64))"
      ]
     },
     "execution_count": 25,
     "metadata": {},
     "output_type": "execute_result"
    }
   ],
   "source": [
    "distance, neighbors = neigh.kneighbors(np.array([test_song]))\n",
    "distance, neighbors"
   ]
  },
  {
   "cell_type": "code",
   "execution_count": 26,
   "metadata": {
    "colab": {},
    "colab_type": "code",
    "id": "6q5E6F9d3rI3"
   },
   "outputs": [
    {
     "name": "stdout",
     "output_type": "stream",
     "text": [
      "Artist: Nonsens - Track: Bounce\n",
      "Artist: Altafulla - Track: Equivócate Conmigo\n",
      "Artist: Brother Dege - Track: Hard Row to Hoe\n",
      "Artist: Imaginary Future - Track: As Long as I Have You I'm Home\n",
      "Artist: Micky & The Motorcars - Track: One In A Lifetime Girl\n",
      "Artist: Jungle - Track: Give Over\n",
      "Artist: Dierks Bentley - Track: Pick Up\n",
      "Artist: Chris Brown - Track: Girl You Loud\n",
      "Artist: MiyaGi - Track: Сонная лощина\n",
      "Artist: Rihanna - Track: Break It Off\n",
      "Artist: Dick Van Dyke - Track: Fidelity Fiduciary Bank - From \"Mary Poppins\"/Soundtrack Version\n",
      "Artist: Palaye Royale - Track: You'll Be Fine\n",
      "Artist: Oblivians - Track: Call the Police\n",
      "Artist: The Abyssinians - Track: Declaration of Rights\n",
      "Artist: Dick Van Dyke - Track: Fidelity Fiduciary Bank\n",
      "Artist: Blues Saraceno - Track: Devils Got You Beat\n",
      "Artist: El Alfa - Track: Llego el Moreno\n",
      "Artist: Jelly Roll - Track: Goodnight Nashville\n",
      "Artist: Tedashii - Track: Smile\n",
      "Artist: The Delfonics - Track: Tell Me This Is a Dream\n",
      "Artist: Jelly Roll - Track: Bad Times Roll\n",
      "Artist: Tim McGraw - Track: Neon Church\n",
      "Artist: Utsu-P - Track: 未来の夏休み\n",
      "Artist: Oscar Peterson - Track: Stormy Weather\n",
      "Artist: Wookiefoot - Track: All Good\n",
      "Artist: Suburban Legends - Track: Love Fair\n",
      "Artist: Miley Cyrus - Track: Maybe You're Right\n",
      "Artist: Jonn Hart - Track: LIFL\n",
      "Artist: Vladimir Horowitz - Track: Carmen Variations\n",
      "Artist: Ronnie Milsap - Track: He Got You - Remastered\n",
      "Artist: Phora - Track: God\n",
      "Artist: Randy Newman - Track: Boo's Going Home\n",
      "Artist: Brothers Osborne - Track: Rum\n",
      "Artist: Grizfolk - Track: The Struggle\n",
      "Artist: Three Houses Down - Track: She's My Woman (feat. Spawn Breezie)\n",
      "Artist: Lorie - Track: Le bonheur a tout prix\n",
      "Artist: Dorothée - Track: Des ailes à mes souliers\n",
      "Artist: Marc Maron - Track: Being In Love\n",
      "Artist: The Lacs - Track: Outlaw in Me (feat. Crucifix)\n",
      "Artist: Erasure - Track: A Little Respect\n",
      "Artist: Messiah - Track: Un Palo (feat. ARHAM)\n",
      "Artist: Dirty Heads - Track: Red Lights\n",
      "Artist: Buena Vista Social Club - Track: ¿Y Tú Qué Has Hecho? - Live\n",
      "Artist: The Civil Wars - Track: From This Valley\n",
      "Artist: Falling In Reverse - Track: Fashionably Late\n",
      "Artist: Sleeping At Last - Track: Mercury (Instrumental)\n",
      "Artist: Kevin Roldan - Track: Chevere\n",
      "Artist: Zomboy - Track: WTF!? - Cookie Monsta Remix\n"
     ]
    },
    {
     "data": {
      "text/plain": [
       "[('Nonsens', 'Bounce'),\n",
       " ('Altafulla', 'Equivócate Conmigo'),\n",
       " ('Brother Dege', 'Hard Row to Hoe'),\n",
       " ('Imaginary Future', \"As Long as I Have You I'm Home\"),\n",
       " ('Micky & The Motorcars', 'One In A Lifetime Girl'),\n",
       " ('Jungle', 'Give Over'),\n",
       " ('Dierks Bentley', 'Pick Up'),\n",
       " ('Chris Brown', 'Girl You Loud'),\n",
       " ('MiyaGi', 'Сонная лощина'),\n",
       " ('Rihanna', 'Break It Off'),\n",
       " ('Dick Van Dyke',\n",
       "  'Fidelity Fiduciary Bank - From \"Mary Poppins\"/Soundtrack Version'),\n",
       " ('Palaye Royale', \"You'll Be Fine\"),\n",
       " ('Oblivians', 'Call the Police'),\n",
       " ('The Abyssinians', 'Declaration of Rights'),\n",
       " ('Dick Van Dyke', 'Fidelity Fiduciary Bank'),\n",
       " ('Blues Saraceno', 'Devils Got You Beat'),\n",
       " ('El Alfa', 'Llego el Moreno'),\n",
       " ('Jelly Roll', 'Goodnight Nashville'),\n",
       " ('Tedashii', 'Smile'),\n",
       " ('The Delfonics', 'Tell Me This Is a Dream'),\n",
       " ('Jelly Roll', 'Bad Times Roll'),\n",
       " ('Tim McGraw', 'Neon Church'),\n",
       " ('Utsu-P', '未来の夏休み'),\n",
       " ('Oscar Peterson', 'Stormy Weather'),\n",
       " ('Wookiefoot', 'All Good'),\n",
       " ('Suburban Legends', 'Love Fair'),\n",
       " ('Miley Cyrus', \"Maybe You're Right\"),\n",
       " ('Jonn Hart', 'LIFL'),\n",
       " ('Vladimir Horowitz', 'Carmen Variations'),\n",
       " ('Ronnie Milsap', 'He Got You - Remastered'),\n",
       " ('Phora', 'God'),\n",
       " ('Randy Newman', \"Boo's Going Home\"),\n",
       " ('Brothers Osborne', 'Rum'),\n",
       " ('Grizfolk', 'The Struggle'),\n",
       " ('Three Houses Down', \"She's My Woman (feat. Spawn Breezie)\"),\n",
       " ('Lorie', 'Le bonheur a tout prix'),\n",
       " ('Dorothée', 'Des ailes à mes souliers'),\n",
       " ('Marc Maron', 'Being In Love'),\n",
       " ('The Lacs', 'Outlaw in Me (feat. Crucifix)'),\n",
       " ('Erasure', 'A Little Respect'),\n",
       " ('Messiah', 'Un Palo (feat. ARHAM)'),\n",
       " ('Dirty Heads', 'Red Lights'),\n",
       " ('Buena Vista Social Club', '¿Y Tú Qué Has Hecho? - Live'),\n",
       " ('The Civil Wars', 'From This Valley'),\n",
       " ('Falling In Reverse', 'Fashionably Late'),\n",
       " ('Sleeping At Last', 'Mercury (Instrumental)'),\n",
       " ('Kevin Roldan', 'Chevere'),\n",
       " ('Zomboy', 'WTF!? - Cookie Monsta Remix')]"
      ]
     },
     "execution_count": 26,
     "metadata": {},
     "output_type": "execute_result"
    }
   ],
   "source": [
    "song_list = []\n",
    "for idx in neighbors[0][2:]: # this way excludes itself\n",
    "    row = df.iloc[idx]\n",
    "    print(f'Artist: {row.artist_name} - Track: {row.track_name}')\n",
    "    song_list.append((row.artist_name, row.track_name))\n",
    "song_list"
   ]
  },
  {
   "cell_type": "code",
   "execution_count": 30,
   "metadata": {},
   "outputs": [],
   "source": []
  },
  {
   "cell_type": "code",
   "execution_count": 31,
   "metadata": {},
   "outputs": [
    {
     "data": {
      "text/plain": [
       "[('Buena Vista Social Club', '¿Y Tú Qué Has Hecho? - Live'),\n",
       " ('Dierks Bentley', 'Pick Up'),\n",
       " ('Tim McGraw', 'Neon Church'),\n",
       " ('Dick Van Dyke', 'Fidelity Fiduciary Bank'),\n",
       " ('Jonn Hart', 'LIFL'),\n",
       " ('El Alfa', 'Llego el Moreno'),\n",
       " ('Three Houses Down', \"She's My Woman (feat. Spawn Breezie)\"),\n",
       " ('The Civil Wars', 'From This Valley'),\n",
       " ('Lorie', 'Le bonheur a tout prix'),\n",
       " ('Oblivians', 'Call the Police')]"
      ]
     },
     "execution_count": 31,
     "metadata": {},
     "output_type": "execute_result"
    }
   ],
   "source": [
    "only_10"
   ]
  },
  {
   "cell_type": "markdown",
   "metadata": {},
   "source": [
    "# Helper Function to Return 10 Nearest Neighbors"
   ]
  },
  {
   "cell_type": "code",
   "execution_count": 42,
   "metadata": {},
   "outputs": [],
   "source": [
    "\"\"\"\n",
    "function for what was done manually above\n",
    "generalized for other dataframes instead of hard coded therefore:\n",
    "takes in a dataframe, a feature set array, and a song ID\n",
    "and returns a list of tuples of artist name and track names\n",
    "\"\"\"\n",
    "from typing import List, Tuple\n",
    "import random \n",
    "\n",
    "def closest_ten(df: pd.DataFrame, X_array: np.ndarray ,song_id: int) -> List[Tuple] :\n",
    "    song = df.iloc[song_id]\n",
    "    X_song = X[song_id]\n",
    "    _, neighbors = neigh.kneighbors(np.array([X_song]))\n",
    "    song_list = []\n",
    "    for idx in neighbors[0][2:]: \n",
    "        row = df.iloc[idx]\n",
    "       # print(f'Artist: {row.artist_name} - Track: {row.track_name}')\n",
    "        song_list.append((row.artist_name, row.track_name))\n",
    "    only_10 = random.sample(song_list, 10)\n",
    "    return(only_10)"
   ]
  },
  {
   "cell_type": "code",
   "execution_count": 43,
   "metadata": {
    "colab": {},
    "colab_type": "code",
    "id": "NXi-FUX6sbWm"
   },
   "outputs": [
    {
     "data": {
      "text/plain": [
       "[('Smith Westerns', 'Weekend'),\n",
       " ('The Cat Empire', 'Til The Ocean Takes Us All'),\n",
       " ('Sick Puppies', \"There's No Going Back\"),\n",
       " ('Red Hot Chili Peppers', 'Higher Ground - Remastered'),\n",
       " ('Red Velvet', 'Power Up'),\n",
       " ('Ballyhoo!', 'Battle Cry'),\n",
       " ('Big Smo', 'Where You From'),\n",
       " ('ATEEZ', 'HALA HALA (Hearts Awakened, Live Alive)'),\n",
       " ('311', 'Freeze Time'),\n",
       " ('Dounia', 'Menace')]"
      ]
     },
     "execution_count": 43,
     "metadata": {},
     "output_type": "execute_result"
    }
   ],
   "source": [
    "# example of function call \n",
    "closest_ten(df, X, 9027)"
   ]
  },
  {
   "cell_type": "markdown",
   "metadata": {},
   "source": [
    "# PCA -> NN"
   ]
  },
  {
   "cell_type": "code",
   "execution_count": 32,
   "metadata": {},
   "outputs": [],
   "source": [
    "# make copy to transform in case you want to do stuff with the other one later in notebook\n",
    "df_copy = df[features].copy()"
   ]
  },
  {
   "cell_type": "code",
   "execution_count": 33,
   "metadata": {},
   "outputs": [],
   "source": [
    "from numpy import array, mean, std, cov\n",
    "from numpy.linalg import eig\n",
    "from sklearn.preprocessing import StandardScaler\n",
    "from sklearn.decomposition import PCA"
   ]
  },
  {
   "cell_type": "code",
   "execution_count": 34,
   "metadata": {},
   "outputs": [],
   "source": [
    "means = df_copy.mean()\n",
    "# print(\"\\n Means:\", means)\n",
    "scaler = StandardScaler()"
   ]
  },
  {
   "cell_type": "code",
   "execution_count": 35,
   "metadata": {},
   "outputs": [],
   "source": [
    "pca_X = scaler.fit_transform(df_copy.values)\n",
    "pca = PCA(0.95)\n",
    "df_pca = pca.fit(pca_X)"
   ]
  },
  {
   "cell_type": "code",
   "execution_count": 36,
   "metadata": {},
   "outputs": [
    {
     "name": "stdout",
     "output_type": "stream",
     "text": [
      "[4.45794341 2.6619331  1.73667879 1.51142396 1.37838907 1.2611412\n",
      " 1.13150022 1.10768792 1.07033582 1.06444661 1.06026414 1.05531529\n",
      " 1.05322221 1.05195636 1.0498224  1.04842724 1.04708279 1.04401482\n",
      " 1.03562486 1.02767329 1.02411178 1.01842098 1.01476388 1.01108687\n",
      " 1.00834383 1.00137027 0.98850912 0.92596955 0.82414355 0.79806926\n",
      " 0.75307744 0.56700277 0.51077434]\n"
     ]
    }
   ],
   "source": [
    "print(pca.explained_variance_)"
   ]
  },
  {
   "cell_type": "code",
   "execution_count": 37,
   "metadata": {},
   "outputs": [
    {
     "name": "stdout",
     "output_type": "stream",
     "text": [
      "Wall time: 0 ns\n"
     ]
    },
    {
     "data": {
      "text/plain": [
       "NearestNeighbors(algorithm='auto', leaf_size=30, metric='minkowski',\n",
       "                 metric_params=None, n_jobs=None, n_neighbors=50, p=2,\n",
       "                 radius=1.0)"
      ]
     },
     "execution_count": 37,
     "metadata": {},
     "output_type": "execute_result"
    }
   ],
   "source": [
    "%time\n",
    "pca_neigh = NearestNeighbors(n_neighbors=50)\n",
    "pca_neigh.fit(pca_X) # NN doesn't need to fit Y"
   ]
  },
  {
   "cell_type": "code",
   "execution_count": null,
   "metadata": {},
   "outputs": [],
   "source": [
    "# refactor later if have time\n",
    "# from sklearn.pipeline import make_pipeline\n",
    "# pipeline = make_pipeline(\n",
    "#     StandardScaler(),\n",
    "#     NearestNeighbors())\n",
    "\n",
    "# pipeline.fit(X)"
   ]
  },
  {
   "cell_type": "markdown",
   "metadata": {},
   "source": [
    "# Auto Encoder -> NN"
   ]
  },
  {
   "cell_type": "code",
   "execution_count": null,
   "metadata": {},
   "outputs": [],
   "source": [
    "from keras.models import Model"
   ]
  },
  {
   "cell_type": "code",
   "execution_count": null,
   "metadata": {},
   "outputs": [],
   "source": [
    "encoding_dim = 10 # compression of factor 4.1 assuming input of 41"
   ]
  },
  {
   "cell_type": "markdown",
   "metadata": {
    "colab_type": "text",
    "id": "38aCXICFoz55"
   },
   "source": [
    "# Export Model with Joblib"
   ]
  },
  {
   "cell_type": "code",
   "execution_count": null,
   "metadata": {
    "colab": {},
    "colab_type": "code",
    "id": "4SBVgLGvn8hS"
   },
   "outputs": [],
   "source": [
    "filename = 'NearestNeighborGenres.sav'"
   ]
  },
  {
   "cell_type": "code",
   "execution_count": null,
   "metadata": {
    "colab": {},
    "colab_type": "code",
    "id": "kLfmVJiKoN8X"
   },
   "outputs": [],
   "source": [
    "joblib.dump(neigh, filename)"
   ]
  },
  {
   "cell_type": "code",
   "execution_count": null,
   "metadata": {},
   "outputs": [],
   "source": [
    "pca_filename = 'PCANearestNeighborGenres.sav'\n",
    "joblib.dump(pca_neigh, pca_filename)"
   ]
  },
  {
   "cell_type": "code",
   "execution_count": null,
   "metadata": {
    "colab": {},
    "colab_type": "code",
    "id": "VD4hvXIVwyRG"
   },
   "outputs": [],
   "source": [
    "# one hot encoding, rolled back\n",
    "# def encode_and_bind(original_dataframe, feature_to_encode):\n",
    "#     dummies = pd.get_dummies(original_dataframe[[feature_to_encode]])\n",
    "#     res = pd.concat([original_dataframe, dummies], axis=1)\n",
    "#     return(res)\n",
    "\n",
    "# df = encode_and_bind(df, 'key')\n",
    "# df = encode_and_bind(df, 'mode')\n",
    "# df = encode_and_bind(df, 'time_signature')"
   ]
  },
  {
   "cell_type": "markdown",
   "metadata": {},
   "source": [
    "# Export Model with Pickle"
   ]
  },
  {
   "cell_type": "code",
   "execution_count": null,
   "metadata": {
    "colab": {},
    "colab_type": "code",
    "id": "d0G2dBalpjTx"
   },
   "outputs": [],
   "source": [
    "import pickle\n",
    "\n",
    "model = neigh\n",
    "\n",
    "filename = 'filename.pkl'\n",
    "\n",
    "with open(filename, 'wb') as f:\n",
    "    pickle.dump(model, f)\n",
    "#then send this pkl file to DE team\n",
    "\n",
    "#DE team:\n",
    "#Make sure to save the pkl file in the same folder as the app\n",
    "\n",
    "#To read it into the app:\n",
    "\n",
    "# with open(filename, 'rb') as f:\n",
    "#     model = pickle.load(f)"
   ]
  },
  {
   "cell_type": "code",
   "execution_count": null,
   "metadata": {},
   "outputs": [],
   "source": []
  }
 ],
 "metadata": {
  "colab": {
   "collapsed_sections": [],
   "name": "Spotify_Model.ipynb",
   "private_outputs": true,
   "provenance": []
  },
  "kernelspec": {
   "display_name": "U4-S2-NN",
   "language": "python",
   "name": "u4-s2-nn"
  },
  "language_info": {
   "codemirror_mode": {
    "name": "ipython",
    "version": 3
   },
   "file_extension": ".py",
   "mimetype": "text/x-python",
   "name": "python",
   "nbconvert_exporter": "python",
   "pygments_lexer": "ipython3",
   "version": "3.7.0"
  }
 },
 "nbformat": 4,
 "nbformat_minor": 4
}
