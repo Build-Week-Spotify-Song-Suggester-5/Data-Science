{
 "cells": [
  {
   "cell_type": "markdown",
   "metadata": {},
   "source": [
    "# Creation of New CSV with Languages & no Duplicates"
   ]
  },
  {
   "cell_type": "code",
   "execution_count": 1,
   "metadata": {},
   "outputs": [],
   "source": [
    "# !pip install -U git+https://github.com/aboSamoor/polyglot.git@master\n",
    "# create track language column, done\n",
    "# df = pd.read_csv('https://raw.githubusercontent.com/aguilargallardo/DS-Unit-2-Applied-Modeling/master/data/SpotifyFeatures.csv')\n",
    "# df = df.dropna()\n",
    "# raw_df = raw_df.drop_duplicates(subset='track_name')\n",
    "# raw_df.shape\n",
    "# raw_df.to_csv('spotify_unique_track_id.csv', index=False)\n",
    "# df.shape\n",
    "\n",
    "# df.to_csv('spotify_unique_track_id.csv', index=False)\n",
    "# Data already has duplicate track names and nulls removed.\n",
    "# from polyglot.text import Text,Word\n",
    "# def get_language(track_name):\n",
    "#     try:\n",
    "#         return(Text(track_name).language.name)\n",
    "#     except: \n",
    "#         return(\"Unknown\")\n",
    "\n",
    "# df.track_name = df.track_name.astype(str)\n",
    "# df['track_lang'] = df.track_name.apply(get_language)\n",
    "\n",
    "# df.to_csv('spotify_unique_track_id_lang.csv', index=False)"
   ]
  },
  {
   "cell_type": "markdown",
   "metadata": {
    "colab_type": "text",
    "id": "kgdLqZi5sa4A"
   },
   "source": [
    "# Imports and Installs"
   ]
  },
  {
   "cell_type": "code",
   "execution_count": 2,
   "metadata": {
    "colab": {},
    "colab_type": "code",
    "id": "e2BCdkR4U5SR"
   },
   "outputs": [],
   "source": [
    "import pandas as pd\n",
    "import numpy as np \n",
    "#import pandas_profiling \n",
    "from sklearn import preprocessing # for category encoder\n",
    "# from polyglot.detect import Detector # for language detection stretch\n",
    "from sklearn.neighbors import NearestNeighbors\n",
    "from sklearn.model_selection import train_test_split\n",
    "# much more efficient for larger files like Nearest Neighbors which the model\n",
    "import joblib\n",
    "import plotly.express as px\n",
    "import plotly.graph_objects as go"
   ]
  },
  {
   "cell_type": "markdown",
   "metadata": {
    "colab_type": "text",
    "id": "RA1kLoqhsemw"
   },
   "source": [
    "# EDA & PROFILE REPORT"
   ]
  },
  {
   "cell_type": "code",
   "execution_count": 3,
   "metadata": {},
   "outputs": [
    {
     "data": {
      "text/plain": [
       "(176514, 19)"
      ]
     },
     "execution_count": 3,
     "metadata": {},
     "output_type": "execute_result"
    }
   ],
   "source": [
    "df = pd.read_csv('https://raw.githubusercontent.com/Build-Week-Spotify-Song-Suggester-5/Data-Science/master/spotify_unique_track_id_lang.csv')\n",
    "# drop duplicates\n",
    "df = df.drop_duplicates(subset=['track_name', 'artist_name'])\n",
    "df.shape"
   ]
  },
  {
   "cell_type": "code",
   "execution_count": 4,
   "metadata": {},
   "outputs": [],
   "source": [
    "# re-order track_lang from the end to after track_name\n",
    "df = df [['genre', 'artist_name', 'track_name', 'track_lang', 'track_id', 'popularity',\n",
    "       'acousticness', 'danceability', 'duration_ms', 'energy',\n",
    "       'instrumentalness', 'key', 'liveness', 'loudness', 'mode',\n",
    "       'speechiness', 'tempo', 'time_signature', 'valence']]"
   ]
  },
  {
   "cell_type": "code",
   "execution_count": 5,
   "metadata": {},
   "outputs": [
    {
     "data": {
      "text/plain": [
       "(75000, 19)"
      ]
     },
     "execution_count": 5,
     "metadata": {},
     "output_type": "execute_result"
    }
   ],
   "source": [
    "# they can only fit 75k on the Heroku\n",
    "df = df.sort_values('popularity', ascending=False)[:75000]\n",
    "df.shape"
   ]
  },
  {
   "cell_type": "code",
   "execution_count": 6,
   "metadata": {},
   "outputs": [],
   "source": [
    "groupby_genre = df.groupby(['genre'])"
   ]
  },
  {
   "cell_type": "code",
   "execution_count": 7,
   "metadata": {},
   "outputs": [],
   "source": [
    "groupby_genre_df = groupby_genre.mean()"
   ]
  },
  {
   "cell_type": "code",
   "execution_count": 8,
   "metadata": {},
   "outputs": [
    {
     "data": {
      "text/html": [
       "<div>\n",
       "<style scoped>\n",
       "    .dataframe tbody tr th:only-of-type {\n",
       "        vertical-align: middle;\n",
       "    }\n",
       "\n",
       "    .dataframe tbody tr th {\n",
       "        vertical-align: top;\n",
       "    }\n",
       "\n",
       "    .dataframe thead th {\n",
       "        text-align: right;\n",
       "    }\n",
       "</style>\n",
       "<table border=\"1\" class=\"dataframe\">\n",
       "  <thead>\n",
       "    <tr style=\"text-align: right;\">\n",
       "      <th></th>\n",
       "      <th>popularity</th>\n",
       "      <th>acousticness</th>\n",
       "      <th>danceability</th>\n",
       "      <th>duration_ms</th>\n",
       "      <th>energy</th>\n",
       "      <th>instrumentalness</th>\n",
       "      <th>liveness</th>\n",
       "      <th>loudness</th>\n",
       "      <th>speechiness</th>\n",
       "      <th>tempo</th>\n",
       "      <th>valence</th>\n",
       "    </tr>\n",
       "    <tr>\n",
       "      <th>genre</th>\n",
       "      <th></th>\n",
       "      <th></th>\n",
       "      <th></th>\n",
       "      <th></th>\n",
       "      <th></th>\n",
       "      <th></th>\n",
       "      <th></th>\n",
       "      <th></th>\n",
       "      <th></th>\n",
       "      <th></th>\n",
       "      <th></th>\n",
       "    </tr>\n",
       "  </thead>\n",
       "  <tbody>\n",
       "    <tr>\n",
       "      <th>A Capella</th>\n",
       "      <td>44.000000</td>\n",
       "      <td>0.780000</td>\n",
       "      <td>0.616000</td>\n",
       "      <td>223813.000000</td>\n",
       "      <td>0.298000</td>\n",
       "      <td>0.000000</td>\n",
       "      <td>0.097300</td>\n",
       "      <td>-7.712000</td>\n",
       "      <td>0.027400</td>\n",
       "      <td>82.471000</td>\n",
       "      <td>0.712000</td>\n",
       "    </tr>\n",
       "    <tr>\n",
       "      <th>Alternative</th>\n",
       "      <td>51.010425</td>\n",
       "      <td>0.161173</td>\n",
       "      <td>0.541951</td>\n",
       "      <td>232926.228773</td>\n",
       "      <td>0.712842</td>\n",
       "      <td>0.059728</td>\n",
       "      <td>0.195053</td>\n",
       "      <td>-6.504939</td>\n",
       "      <td>0.089642</td>\n",
       "      <td>122.337206</td>\n",
       "      <td>0.449112</td>\n",
       "    </tr>\n",
       "    <tr>\n",
       "      <th>Anime</th>\n",
       "      <td>46.396491</td>\n",
       "      <td>0.147176</td>\n",
       "      <td>0.489208</td>\n",
       "      <td>257335.910526</td>\n",
       "      <td>0.788534</td>\n",
       "      <td>0.085538</td>\n",
       "      <td>0.209409</td>\n",
       "      <td>-5.110679</td>\n",
       "      <td>0.071969</td>\n",
       "      <td>131.315028</td>\n",
       "      <td>0.490506</td>\n",
       "    </tr>\n",
       "    <tr>\n",
       "      <th>Blues</th>\n",
       "      <td>47.177282</td>\n",
       "      <td>0.339468</td>\n",
       "      <td>0.528848</td>\n",
       "      <td>242445.472095</td>\n",
       "      <td>0.590056</td>\n",
       "      <td>0.080638</td>\n",
       "      <td>0.202259</td>\n",
       "      <td>-9.216211</td>\n",
       "      <td>0.057959</td>\n",
       "      <td>120.279586</td>\n",
       "      <td>0.576147</td>\n",
       "    </tr>\n",
       "    <tr>\n",
       "      <th>Children's Music</th>\n",
       "      <td>44.000000</td>\n",
       "      <td>0.474848</td>\n",
       "      <td>0.694619</td>\n",
       "      <td>156495.666667</td>\n",
       "      <td>0.423429</td>\n",
       "      <td>0.085929</td>\n",
       "      <td>0.168976</td>\n",
       "      <td>-11.277571</td>\n",
       "      <td>0.059943</td>\n",
       "      <td>113.821667</td>\n",
       "      <td>0.730762</td>\n",
       "    </tr>\n",
       "    <tr>\n",
       "      <th>Children’s Music</th>\n",
       "      <td>53.385246</td>\n",
       "      <td>0.141759</td>\n",
       "      <td>0.525109</td>\n",
       "      <td>234215.719672</td>\n",
       "      <td>0.723688</td>\n",
       "      <td>0.027107</td>\n",
       "      <td>0.194981</td>\n",
       "      <td>-6.205175</td>\n",
       "      <td>0.069706</td>\n",
       "      <td>123.263584</td>\n",
       "      <td>0.442311</td>\n",
       "    </tr>\n",
       "    <tr>\n",
       "      <th>Classical</th>\n",
       "      <td>46.650876</td>\n",
       "      <td>0.792981</td>\n",
       "      <td>0.312098</td>\n",
       "      <td>298194.858533</td>\n",
       "      <td>0.229438</td>\n",
       "      <td>0.617128</td>\n",
       "      <td>0.141478</td>\n",
       "      <td>-20.931949</td>\n",
       "      <td>0.049424</td>\n",
       "      <td>105.483016</td>\n",
       "      <td>0.209754</td>\n",
       "    </tr>\n",
       "    <tr>\n",
       "      <th>Comedy</th>\n",
       "      <td>44.353333</td>\n",
       "      <td>0.767230</td>\n",
       "      <td>0.551367</td>\n",
       "      <td>252806.036667</td>\n",
       "      <td>0.790793</td>\n",
       "      <td>0.000059</td>\n",
       "      <td>0.721582</td>\n",
       "      <td>-8.217337</td>\n",
       "      <td>0.800496</td>\n",
       "      <td>101.280577</td>\n",
       "      <td>0.387063</td>\n",
       "    </tr>\n",
       "    <tr>\n",
       "      <th>Country</th>\n",
       "      <td>48.519916</td>\n",
       "      <td>0.274868</td>\n",
       "      <td>0.576805</td>\n",
       "      <td>216895.917400</td>\n",
       "      <td>0.635400</td>\n",
       "      <td>0.005886</td>\n",
       "      <td>0.179262</td>\n",
       "      <td>-7.374925</td>\n",
       "      <td>0.047012</td>\n",
       "      <td>123.438678</td>\n",
       "      <td>0.542499</td>\n",
       "    </tr>\n",
       "    <tr>\n",
       "      <th>Dance</th>\n",
       "      <td>58.325635</td>\n",
       "      <td>0.155503</td>\n",
       "      <td>0.641949</td>\n",
       "      <td>224280.163838</td>\n",
       "      <td>0.695713</td>\n",
       "      <td>0.027969</td>\n",
       "      <td>0.185589</td>\n",
       "      <td>-6.015271</td>\n",
       "      <td>0.085381</td>\n",
       "      <td>120.696306</td>\n",
       "      <td>0.517950</td>\n",
       "    </tr>\n",
       "    <tr>\n",
       "      <th>Electronic</th>\n",
       "      <td>47.505801</td>\n",
       "      <td>0.119593</td>\n",
       "      <td>0.629299</td>\n",
       "      <td>272572.000000</td>\n",
       "      <td>0.730611</td>\n",
       "      <td>0.325123</td>\n",
       "      <td>0.198841</td>\n",
       "      <td>-7.054929</td>\n",
       "      <td>0.090263</td>\n",
       "      <td>125.205250</td>\n",
       "      <td>0.390975</td>\n",
       "    </tr>\n",
       "    <tr>\n",
       "      <th>Folk</th>\n",
       "      <td>50.923509</td>\n",
       "      <td>0.481912</td>\n",
       "      <td>0.524609</td>\n",
       "      <td>234418.120768</td>\n",
       "      <td>0.482049</td>\n",
       "      <td>0.089081</td>\n",
       "      <td>0.166182</td>\n",
       "      <td>-9.978669</td>\n",
       "      <td>0.044813</td>\n",
       "      <td>118.507838</td>\n",
       "      <td>0.427081</td>\n",
       "    </tr>\n",
       "    <tr>\n",
       "      <th>Hip-Hop</th>\n",
       "      <td>58.632598</td>\n",
       "      <td>0.173667</td>\n",
       "      <td>0.727906</td>\n",
       "      <td>217485.226614</td>\n",
       "      <td>0.645351</td>\n",
       "      <td>0.009007</td>\n",
       "      <td>0.200338</td>\n",
       "      <td>-6.786159</td>\n",
       "      <td>0.211494</td>\n",
       "      <td>122.022943</td>\n",
       "      <td>0.462039</td>\n",
       "    </tr>\n",
       "    <tr>\n",
       "      <th>Indie</th>\n",
       "      <td>53.733313</td>\n",
       "      <td>0.310760</td>\n",
       "      <td>0.573460</td>\n",
       "      <td>215965.892716</td>\n",
       "      <td>0.601672</td>\n",
       "      <td>0.099352</td>\n",
       "      <td>0.171811</td>\n",
       "      <td>-7.616892</td>\n",
       "      <td>0.064999</td>\n",
       "      <td>120.648095</td>\n",
       "      <td>0.451931</td>\n",
       "    </tr>\n",
       "    <tr>\n",
       "      <th>Jazz</th>\n",
       "      <td>47.333520</td>\n",
       "      <td>0.535509</td>\n",
       "      <td>0.587285</td>\n",
       "      <td>260929.929771</td>\n",
       "      <td>0.443381</td>\n",
       "      <td>0.323191</td>\n",
       "      <td>0.167884</td>\n",
       "      <td>-11.613275</td>\n",
       "      <td>0.071977</td>\n",
       "      <td>110.417200</td>\n",
       "      <td>0.497648</td>\n",
       "    </tr>\n",
       "    <tr>\n",
       "      <th>Movie</th>\n",
       "      <td>48.980057</td>\n",
       "      <td>0.731309</td>\n",
       "      <td>0.433060</td>\n",
       "      <td>182018.131054</td>\n",
       "      <td>0.324410</td>\n",
       "      <td>0.138037</td>\n",
       "      <td>0.191808</td>\n",
       "      <td>-13.520222</td>\n",
       "      <td>0.078405</td>\n",
       "      <td>108.728840</td>\n",
       "      <td>0.371144</td>\n",
       "    </tr>\n",
       "    <tr>\n",
       "      <th>Opera</th>\n",
       "      <td>45.974684</td>\n",
       "      <td>0.930848</td>\n",
       "      <td>0.277905</td>\n",
       "      <td>262781.177215</td>\n",
       "      <td>0.179207</td>\n",
       "      <td>0.354995</td>\n",
       "      <td>0.172514</td>\n",
       "      <td>-18.360975</td>\n",
       "      <td>0.048628</td>\n",
       "      <td>101.163241</td>\n",
       "      <td>0.201656</td>\n",
       "    </tr>\n",
       "    <tr>\n",
       "      <th>Pop</th>\n",
       "      <td>67.197253</td>\n",
       "      <td>0.254513</td>\n",
       "      <td>0.604630</td>\n",
       "      <td>218409.585518</td>\n",
       "      <td>0.659719</td>\n",
       "      <td>0.017001</td>\n",
       "      <td>0.178361</td>\n",
       "      <td>-6.182595</td>\n",
       "      <td>0.074493</td>\n",
       "      <td>123.327280</td>\n",
       "      <td>0.506215</td>\n",
       "    </tr>\n",
       "    <tr>\n",
       "      <th>R&amp;B</th>\n",
       "      <td>49.507124</td>\n",
       "      <td>0.302195</td>\n",
       "      <td>0.640911</td>\n",
       "      <td>226954.682635</td>\n",
       "      <td>0.556800</td>\n",
       "      <td>0.030011</td>\n",
       "      <td>0.173709</td>\n",
       "      <td>-7.774648</td>\n",
       "      <td>0.123031</td>\n",
       "      <td>116.358560</td>\n",
       "      <td>0.448751</td>\n",
       "    </tr>\n",
       "    <tr>\n",
       "      <th>Rap</th>\n",
       "      <td>59.652144</td>\n",
       "      <td>0.223968</td>\n",
       "      <td>0.703880</td>\n",
       "      <td>202025.174274</td>\n",
       "      <td>0.617324</td>\n",
       "      <td>0.023326</td>\n",
       "      <td>0.188559</td>\n",
       "      <td>-7.309559</td>\n",
       "      <td>0.181349</td>\n",
       "      <td>121.000630</td>\n",
       "      <td>0.441816</td>\n",
       "    </tr>\n",
       "    <tr>\n",
       "      <th>Reggae</th>\n",
       "      <td>48.522565</td>\n",
       "      <td>0.187912</td>\n",
       "      <td>0.708805</td>\n",
       "      <td>240929.739509</td>\n",
       "      <td>0.635903</td>\n",
       "      <td>0.024622</td>\n",
       "      <td>0.186717</td>\n",
       "      <td>-7.305235</td>\n",
       "      <td>0.114693</td>\n",
       "      <td>118.576966</td>\n",
       "      <td>0.684839</td>\n",
       "    </tr>\n",
       "    <tr>\n",
       "      <th>Reggaeton</th>\n",
       "      <td>50.477392</td>\n",
       "      <td>0.224866</td>\n",
       "      <td>0.739588</td>\n",
       "      <td>233203.640379</td>\n",
       "      <td>0.736039</td>\n",
       "      <td>0.003460</td>\n",
       "      <td>0.194170</td>\n",
       "      <td>-5.634244</td>\n",
       "      <td>0.126437</td>\n",
       "      <td>122.532000</td>\n",
       "      <td>0.640002</td>\n",
       "    </tr>\n",
       "    <tr>\n",
       "      <th>Rock</th>\n",
       "      <td>59.208921</td>\n",
       "      <td>0.209310</td>\n",
       "      <td>0.519939</td>\n",
       "      <td>246410.905325</td>\n",
       "      <td>0.673592</td>\n",
       "      <td>0.059071</td>\n",
       "      <td>0.195354</td>\n",
       "      <td>-7.897208</td>\n",
       "      <td>0.053403</td>\n",
       "      <td>122.923911</td>\n",
       "      <td>0.514320</td>\n",
       "    </tr>\n",
       "    <tr>\n",
       "      <th>Ska</th>\n",
       "      <td>47.263844</td>\n",
       "      <td>0.091746</td>\n",
       "      <td>0.549925</td>\n",
       "      <td>218562.375679</td>\n",
       "      <td>0.828426</td>\n",
       "      <td>0.041561</td>\n",
       "      <td>0.304594</td>\n",
       "      <td>-6.061957</td>\n",
       "      <td>0.072286</td>\n",
       "      <td>131.627722</td>\n",
       "      <td>0.663727</td>\n",
       "    </tr>\n",
       "    <tr>\n",
       "      <th>Soul</th>\n",
       "      <td>47.552565</td>\n",
       "      <td>0.343782</td>\n",
       "      <td>0.622122</td>\n",
       "      <td>229090.730176</td>\n",
       "      <td>0.559339</td>\n",
       "      <td>0.069634</td>\n",
       "      <td>0.176543</td>\n",
       "      <td>-8.637822</td>\n",
       "      <td>0.082081</td>\n",
       "      <td>115.329431</td>\n",
       "      <td>0.488515</td>\n",
       "    </tr>\n",
       "    <tr>\n",
       "      <th>Soundtrack</th>\n",
       "      <td>46.592233</td>\n",
       "      <td>0.695097</td>\n",
       "      <td>0.256030</td>\n",
       "      <td>206513.234830</td>\n",
       "      <td>0.234672</td>\n",
       "      <td>0.785635</td>\n",
       "      <td>0.139782</td>\n",
       "      <td>-18.935243</td>\n",
       "      <td>0.043306</td>\n",
       "      <td>103.941281</td>\n",
       "      <td>0.113061</td>\n",
       "    </tr>\n",
       "    <tr>\n",
       "      <th>World</th>\n",
       "      <td>46.563193</td>\n",
       "      <td>0.366836</td>\n",
       "      <td>0.427352</td>\n",
       "      <td>320262.583703</td>\n",
       "      <td>0.506450</td>\n",
       "      <td>0.132265</td>\n",
       "      <td>0.252786</td>\n",
       "      <td>-9.744012</td>\n",
       "      <td>0.041310</td>\n",
       "      <td>122.409738</td>\n",
       "      <td>0.261221</td>\n",
       "    </tr>\n",
       "  </tbody>\n",
       "</table>\n",
       "</div>"
      ],
      "text/plain": [
       "                  popularity  acousticness  danceability    duration_ms  \\\n",
       "genre                                                                     \n",
       "A Capella          44.000000      0.780000      0.616000  223813.000000   \n",
       "Alternative        51.010425      0.161173      0.541951  232926.228773   \n",
       "Anime              46.396491      0.147176      0.489208  257335.910526   \n",
       "Blues              47.177282      0.339468      0.528848  242445.472095   \n",
       "Children's Music   44.000000      0.474848      0.694619  156495.666667   \n",
       "Children’s Music   53.385246      0.141759      0.525109  234215.719672   \n",
       "Classical          46.650876      0.792981      0.312098  298194.858533   \n",
       "Comedy             44.353333      0.767230      0.551367  252806.036667   \n",
       "Country            48.519916      0.274868      0.576805  216895.917400   \n",
       "Dance              58.325635      0.155503      0.641949  224280.163838   \n",
       "Electronic         47.505801      0.119593      0.629299  272572.000000   \n",
       "Folk               50.923509      0.481912      0.524609  234418.120768   \n",
       "Hip-Hop            58.632598      0.173667      0.727906  217485.226614   \n",
       "Indie              53.733313      0.310760      0.573460  215965.892716   \n",
       "Jazz               47.333520      0.535509      0.587285  260929.929771   \n",
       "Movie              48.980057      0.731309      0.433060  182018.131054   \n",
       "Opera              45.974684      0.930848      0.277905  262781.177215   \n",
       "Pop                67.197253      0.254513      0.604630  218409.585518   \n",
       "R&B                49.507124      0.302195      0.640911  226954.682635   \n",
       "Rap                59.652144      0.223968      0.703880  202025.174274   \n",
       "Reggae             48.522565      0.187912      0.708805  240929.739509   \n",
       "Reggaeton          50.477392      0.224866      0.739588  233203.640379   \n",
       "Rock               59.208921      0.209310      0.519939  246410.905325   \n",
       "Ska                47.263844      0.091746      0.549925  218562.375679   \n",
       "Soul               47.552565      0.343782      0.622122  229090.730176   \n",
       "Soundtrack         46.592233      0.695097      0.256030  206513.234830   \n",
       "World              46.563193      0.366836      0.427352  320262.583703   \n",
       "\n",
       "                    energy  instrumentalness  liveness   loudness  \\\n",
       "genre                                                               \n",
       "A Capella         0.298000          0.000000  0.097300  -7.712000   \n",
       "Alternative       0.712842          0.059728  0.195053  -6.504939   \n",
       "Anime             0.788534          0.085538  0.209409  -5.110679   \n",
       "Blues             0.590056          0.080638  0.202259  -9.216211   \n",
       "Children's Music  0.423429          0.085929  0.168976 -11.277571   \n",
       "Children’s Music  0.723688          0.027107  0.194981  -6.205175   \n",
       "Classical         0.229438          0.617128  0.141478 -20.931949   \n",
       "Comedy            0.790793          0.000059  0.721582  -8.217337   \n",
       "Country           0.635400          0.005886  0.179262  -7.374925   \n",
       "Dance             0.695713          0.027969  0.185589  -6.015271   \n",
       "Electronic        0.730611          0.325123  0.198841  -7.054929   \n",
       "Folk              0.482049          0.089081  0.166182  -9.978669   \n",
       "Hip-Hop           0.645351          0.009007  0.200338  -6.786159   \n",
       "Indie             0.601672          0.099352  0.171811  -7.616892   \n",
       "Jazz              0.443381          0.323191  0.167884 -11.613275   \n",
       "Movie             0.324410          0.138037  0.191808 -13.520222   \n",
       "Opera             0.179207          0.354995  0.172514 -18.360975   \n",
       "Pop               0.659719          0.017001  0.178361  -6.182595   \n",
       "R&B               0.556800          0.030011  0.173709  -7.774648   \n",
       "Rap               0.617324          0.023326  0.188559  -7.309559   \n",
       "Reggae            0.635903          0.024622  0.186717  -7.305235   \n",
       "Reggaeton         0.736039          0.003460  0.194170  -5.634244   \n",
       "Rock              0.673592          0.059071  0.195354  -7.897208   \n",
       "Ska               0.828426          0.041561  0.304594  -6.061957   \n",
       "Soul              0.559339          0.069634  0.176543  -8.637822   \n",
       "Soundtrack        0.234672          0.785635  0.139782 -18.935243   \n",
       "World             0.506450          0.132265  0.252786  -9.744012   \n",
       "\n",
       "                  speechiness       tempo   valence  \n",
       "genre                                                \n",
       "A Capella            0.027400   82.471000  0.712000  \n",
       "Alternative          0.089642  122.337206  0.449112  \n",
       "Anime                0.071969  131.315028  0.490506  \n",
       "Blues                0.057959  120.279586  0.576147  \n",
       "Children's Music     0.059943  113.821667  0.730762  \n",
       "Children’s Music     0.069706  123.263584  0.442311  \n",
       "Classical            0.049424  105.483016  0.209754  \n",
       "Comedy               0.800496  101.280577  0.387063  \n",
       "Country              0.047012  123.438678  0.542499  \n",
       "Dance                0.085381  120.696306  0.517950  \n",
       "Electronic           0.090263  125.205250  0.390975  \n",
       "Folk                 0.044813  118.507838  0.427081  \n",
       "Hip-Hop              0.211494  122.022943  0.462039  \n",
       "Indie                0.064999  120.648095  0.451931  \n",
       "Jazz                 0.071977  110.417200  0.497648  \n",
       "Movie                0.078405  108.728840  0.371144  \n",
       "Opera                0.048628  101.163241  0.201656  \n",
       "Pop                  0.074493  123.327280  0.506215  \n",
       "R&B                  0.123031  116.358560  0.448751  \n",
       "Rap                  0.181349  121.000630  0.441816  \n",
       "Reggae               0.114693  118.576966  0.684839  \n",
       "Reggaeton            0.126437  122.532000  0.640002  \n",
       "Rock                 0.053403  122.923911  0.514320  \n",
       "Ska                  0.072286  131.627722  0.663727  \n",
       "Soul                 0.082081  115.329431  0.488515  \n",
       "Soundtrack           0.043306  103.941281  0.113061  \n",
       "World                0.041310  122.409738  0.261221  "
      ]
     },
     "execution_count": 8,
     "metadata": {},
     "output_type": "execute_result"
    }
   ],
   "source": [
    "groupby_genre_df"
   ]
  },
  {
   "cell_type": "code",
   "execution_count": 9,
   "metadata": {},
   "outputs": [],
   "source": [
    "import seaborn as sns\n",
    "import matplotlib.pyplot as plt\n",
    "dims = (11.7, 8.27)"
   ]
  },
  {
   "cell_type": "code",
   "execution_count": 10,
   "metadata": {},
   "outputs": [
    {
     "data": {
      "image/png": "[encoded data removed]",
      "text/plain": [
       "<Figure size 842.4x595.44 with 1 Axes>"
      ]
     },
     "metadata": {
      "needs_background": "light"
     },
     "output_type": "display_data"
    }
   ],
   "source": [
    "fig, ax = plt.subplots(figsize=dims)\n",
    "plt.title('Popularity by Genre');\n",
    "popchart = sns.barplot(x=groupby_genre_df.index, y=groupby_genre_df.popularity);\n",
    "popchart.set_xticklabels(labels = groupby_genre_df.index, rotation=90);\n",
    "# save and send to everyone else\n",
    "f = popchart.get_figure()\n",
    "f.savefig(\"popchart.jpg\")"
   ]
  },
  {
   "cell_type": "code",
   "execution_count": 11,
   "metadata": {},
   "outputs": [
    {
     "data": {
      "image/png": "[encoded data removed]",
      "text/plain": [
       "<Figure size 842.4x595.44 with 1 Axes>"
      ]
     },
     "metadata": {
      "needs_background": "light"
     },
     "output_type": "display_data"
    }
   ],
   "source": [
    "fig, ax = plt.subplots(figsize=dims)\n",
    "plt.title('Acousticness by Genre');\n",
    "accoustchart = sns.barplot(x=groupby_genre_df.index, y=groupby_genre_df.acousticness);\n",
    "accoustchart.set_xticklabels(labels = groupby_genre_df.index, rotation=90);\n",
    "\n",
    "f = accoustchart.get_figure()\n",
    "f.savefig(\"accoustchart.jpg\")"
   ]
  },
  {
   "cell_type": "code",
   "execution_count": 12,
   "metadata": {},
   "outputs": [
    {
     "data": {
      "image/png": "[encoded data removed]",
      "text/plain": [
       "<Figure size 842.4x595.44 with 1 Axes>"
      ]
     },
     "metadata": {
      "needs_background": "light"
     },
     "output_type": "display_data"
    }
   ],
   "source": [
    "fig, ax = plt.subplots(figsize=dims)\n",
    "plt.title('Danceability by Genre');\n",
    "dancechart = sns.barplot(x=groupby_genre_df.index, y=groupby_genre_df.danceability);\n",
    "dancechart.set_xticklabels(labels = groupby_genre_df.index, rotation=90);\n",
    "\n",
    "\n",
    "f = dancechart.get_figure()\n",
    "f.savefig(\"dancechart.jpg\")"
   ]
  },
  {
   "cell_type": "code",
   "execution_count": 13,
   "metadata": {},
   "outputs": [
    {
     "data": {
      "image/png": "[encoded data removed]",
      "text/plain": [
       "<Figure size 842.4x595.44 with 1 Axes>"
      ]
     },
     "metadata": {
      "needs_background": "light"
     },
     "output_type": "display_data"
    }
   ],
   "source": [
    "fig, ax = plt.subplots(figsize=dims)\n",
    "plt.title('Tempo in BPM by Genre');\n",
    "tempochart = sns.barplot(x=groupby_genre_df.index, y=groupby_genre_df.tempo);\n",
    "tempochart.set_xticklabels(labels = groupby_genre_df.index, rotation=90);\n",
    "\n",
    "f = tempochart.get_figure()\n",
    "f.savefig(\"tempochart.jpg\")"
   ]
  },
  {
   "cell_type": "code",
   "execution_count": 14,
   "metadata": {},
   "outputs": [
    {
     "data": {
      "image/png": "[encoded data removed]",
      "text/plain": [
       "<Figure size 842.4x595.44 with 1 Axes>"
      ]
     },
     "metadata": {
      "needs_background": "light"
     },
     "output_type": "display_data"
    }
   ],
   "source": [
    "fig, ax = plt.subplots(figsize=dims)\n",
    "plt.title('Liveliness by Genre');\n",
    "livechart = sns.barplot(x=groupby_genre_df.index, y=groupby_genre_df.liveness);\n",
    "livechart.set_xticklabels(labels = groupby_genre_df.index, rotation=90);\n",
    "\n",
    "f = livechart.get_figure()\n",
    "f.savefig(\"livechart.jpg\")"
   ]
  },
  {
   "cell_type": "markdown",
   "metadata": {},
   "source": [
    "# Visualization Stretch Goal Stuff"
   ]
  },
  {
   "cell_type": "code",
   "execution_count": 16,
   "metadata": {},
   "outputs": [],
   "source": [
    "# def create_web_chart(df):\n",
    "#     music_features = ['acousticness', 'danceability', 'energy', 'instrumentalness', 'liveness', 'speechiness', 'valence']\n",
    "    \n",
    "#     fig = go.Figure()\n",
    "\n",
    "#     for idx, row in df.iterrows():\n",
    "#         # vals = list(df.iloc[idx][music_features].values)\n",
    "#         row_df = pd.DataFrame(df.loc[idx][music_features].T).reset_index().rename(columns={idx:'values', 'index':'feature'})\n",
    "#         fig.add_trace(go.Scatterpolar(\n",
    "#                                     r=row_df['values'],\n",
    "#                                     theta=row_df['feature'],\n",
    "#                                     fill='toself',\n",
    "#                                     name= f'{row.artist_name} - {row.track_name}'\n",
    "#                     ))\n",
    "#     # fig.show()\n",
    "#     return fig\n",
    "# fig = create_web_chart(df.iloc[0:5])\n",
    "# fig.show()\n",
    "\n",
    "\n",
    "# first_song_values = list(df.iloc[0][music_features].values)\n",
    "# second_song_values = list(df.iloc[1][music_features].values)\n",
    "# fig = px.bar(first_song_df, x='feature', y=\"values\", color='feature')\n",
    "# fig.show()\n",
    "\n",
    "# fig.add_trace(go.Scatterpolar(\n",
    "#       r=second_song_df['values'],\n",
    "#       theta=second_song_df['feature'],\n",
    "#       fill='toself',\n",
    "#       name='Second Song'\n",
    "# ))\n",
    "\n",
    "# fig.update_layout(\n",
    "#   polar=dict(\n",
    "#     radialaxis=dict(\n",
    "#       visible=True,\n",
    "#       range=[0, 1]\n",
    "#     )),\n",
    "#   showlegend=True\n",
    "# )\n",
    "\n",
    "# fig.show()"
   ]
  },
  {
   "cell_type": "markdown",
   "metadata": {},
   "source": [
    "# ENCODING OF FEATURES\n",
    "\n",
    "NOTE THAT IF YOU RUN THIS CELL AGAIN WITHOUT RESTARTING RUNTIME YOU'LL ENCODE AND BIND ANOTHER COPY OF GENRE ENCODINGS SIGNIFICANTLY INCREASING THE SIZE OF THE FEATURE SET WHILE ADDING NEGATIVE VALUE"
   ]
  },
  {
   "cell_type": "code",
   "execution_count": 17,
   "metadata": {
    "colab": {},
    "colab_type": "code",
    "id": "Ye5e46vbZdHJ"
   },
   "outputs": [],
   "source": [
    "# helper function to one hot encode genre\n",
    "def encode_and_bind(original_dataframe, feature_to_encode):\n",
    "    dummies = pd.get_dummies(original_dataframe[[feature_to_encode]])\n",
    "    res = pd.concat([original_dataframe, dummies], axis=1)\n",
    "    return(res)\n",
    "\n",
    "time_sig_encoding = { '0/4' : 0, '1/4' : 1, \n",
    "                         '3/4' : 3, '4/4' : 4,\n",
    "                         '5/4' : 5}\n",
    "\n",
    "key_encoding = { 'A' : 0, 'A#' : 1, 'B' : 2,\n",
    "                    'C' : 3,  'C#' : 4,  'D' : 5,\n",
    "                    'D#' : 6, 'E' : 7, 'F' : 8,\n",
    "                    'F#' : 9, 'G' : 10, 'G#' : 11 }\n",
    "\n",
    "mode_encoding = { 'Major':0, 'Minor':1}      \n",
    "\n",
    "df['key'] = df['key'].map(key_encoding)\n",
    "df['time_signature'] = df['time_signature'].map(time_sig_encoding)\n",
    "df['mode'] = df['mode'].map(mode_encoding)\n",
    "df = encode_and_bind(df, 'genre')    "
   ]
  },
  {
   "cell_type": "code",
   "execution_count": 18,
   "metadata": {},
   "outputs": [],
   "source": [
    "df = encode_and_bind(df, 'track_lang')"
   ]
  },
  {
   "cell_type": "code",
   "execution_count": 58,
   "metadata": {},
   "outputs": [
    {
     "data": {
      "text/html": [
       "<div>\n",
       "<style scoped>\n",
       "    .dataframe tbody tr th:only-of-type {\n",
       "        vertical-align: middle;\n",
       "    }\n",
       "\n",
       "    .dataframe tbody tr th {\n",
       "        vertical-align: top;\n",
       "    }\n",
       "\n",
       "    .dataframe thead th {\n",
       "        text-align: right;\n",
       "    }\n",
       "</style>\n",
       "<table border=\"1\" class=\"dataframe\">\n",
       "  <thead>\n",
       "    <tr style=\"text-align: right;\">\n",
       "      <th></th>\n",
       "      <th>genre</th>\n",
       "      <th>artist_name</th>\n",
       "      <th>track_name</th>\n",
       "      <th>track_lang</th>\n",
       "      <th>track_id</th>\n",
       "      <th>popularity</th>\n",
       "      <th>acousticness</th>\n",
       "      <th>danceability</th>\n",
       "      <th>duration_ms</th>\n",
       "      <th>energy</th>\n",
       "      <th>...</th>\n",
       "      <th>track_lang_Waray</th>\n",
       "      <th>track_lang_Welsh</th>\n",
       "      <th>track_lang_Western Frisian</th>\n",
       "      <th>track_lang_Wolof</th>\n",
       "      <th>track_lang_Xhosa</th>\n",
       "      <th>track_lang_Yoruba</th>\n",
       "      <th>track_lang_Zhuang</th>\n",
       "      <th>track_lang_Zulu</th>\n",
       "      <th>track_lang_un</th>\n",
       "      <th>track_lang_zzp</th>\n",
       "    </tr>\n",
       "  </thead>\n",
       "  <tbody>\n",
       "    <tr>\n",
       "      <th>9027</th>\n",
       "      <td>Dance</td>\n",
       "      <td>Ariana Grande</td>\n",
       "      <td>7 rings</td>\n",
       "      <td>English</td>\n",
       "      <td>14msK75pk3pA33pzPVNtBF</td>\n",
       "      <td>100</td>\n",
       "      <td>0.5780</td>\n",
       "      <td>0.725</td>\n",
       "      <td>178640</td>\n",
       "      <td>0.321</td>\n",
       "      <td>...</td>\n",
       "      <td>0</td>\n",
       "      <td>0</td>\n",
       "      <td>0</td>\n",
       "      <td>0</td>\n",
       "      <td>0</td>\n",
       "      <td>0</td>\n",
       "      <td>0</td>\n",
       "      <td>0</td>\n",
       "      <td>0</td>\n",
       "      <td>0</td>\n",
       "    </tr>\n",
       "    <tr>\n",
       "      <th>86951</th>\n",
       "      <td>Rap</td>\n",
       "      <td>Post Malone</td>\n",
       "      <td>Wow.</td>\n",
       "      <td>English</td>\n",
       "      <td>6MWtB6iiXyIwun0YzU6DFP</td>\n",
       "      <td>99</td>\n",
       "      <td>0.1630</td>\n",
       "      <td>0.833</td>\n",
       "      <td>149520</td>\n",
       "      <td>0.539</td>\n",
       "      <td>...</td>\n",
       "      <td>0</td>\n",
       "      <td>0</td>\n",
       "      <td>0</td>\n",
       "      <td>0</td>\n",
       "      <td>0</td>\n",
       "      <td>0</td>\n",
       "      <td>0</td>\n",
       "      <td>0</td>\n",
       "      <td>0</td>\n",
       "      <td>0</td>\n",
       "    </tr>\n",
       "    <tr>\n",
       "      <th>9026</th>\n",
       "      <td>Dance</td>\n",
       "      <td>Ariana Grande</td>\n",
       "      <td>break up with your girlfriend, i'm bored</td>\n",
       "      <td>English</td>\n",
       "      <td>4kV4N9D1iKVxx1KLvtTpjS</td>\n",
       "      <td>99</td>\n",
       "      <td>0.0421</td>\n",
       "      <td>0.726</td>\n",
       "      <td>190440</td>\n",
       "      <td>0.554</td>\n",
       "      <td>...</td>\n",
       "      <td>0</td>\n",
       "      <td>0</td>\n",
       "      <td>0</td>\n",
       "      <td>0</td>\n",
       "      <td>0</td>\n",
       "      <td>0</td>\n",
       "      <td>0</td>\n",
       "      <td>0</td>\n",
       "      <td>0</td>\n",
       "      <td>0</td>\n",
       "    </tr>\n",
       "    <tr>\n",
       "      <th>66643</th>\n",
       "      <td>Hip-Hop</td>\n",
       "      <td>Daddy Yankee</td>\n",
       "      <td>Con Calma</td>\n",
       "      <td>English</td>\n",
       "      <td>5w9c2J52mkdntKOmRLeM2m</td>\n",
       "      <td>98</td>\n",
       "      <td>0.1100</td>\n",
       "      <td>0.737</td>\n",
       "      <td>193227</td>\n",
       "      <td>0.860</td>\n",
       "      <td>...</td>\n",
       "      <td>0</td>\n",
       "      <td>0</td>\n",
       "      <td>0</td>\n",
       "      <td>0</td>\n",
       "      <td>0</td>\n",
       "      <td>0</td>\n",
       "      <td>0</td>\n",
       "      <td>0</td>\n",
       "      <td>0</td>\n",
       "      <td>0</td>\n",
       "    </tr>\n",
       "    <tr>\n",
       "      <th>107812</th>\n",
       "      <td>Pop</td>\n",
       "      <td>Marshmello</td>\n",
       "      <td>Happier</td>\n",
       "      <td>English</td>\n",
       "      <td>2dpaYNEQHiRxtZbfNsse99</td>\n",
       "      <td>97</td>\n",
       "      <td>0.1910</td>\n",
       "      <td>0.687</td>\n",
       "      <td>214290</td>\n",
       "      <td>0.792</td>\n",
       "      <td>...</td>\n",
       "      <td>0</td>\n",
       "      <td>0</td>\n",
       "      <td>0</td>\n",
       "      <td>0</td>\n",
       "      <td>0</td>\n",
       "      <td>0</td>\n",
       "      <td>0</td>\n",
       "      <td>0</td>\n",
       "      <td>0</td>\n",
       "      <td>0</td>\n",
       "    </tr>\n",
       "    <tr>\n",
       "      <th>...</th>\n",
       "      <td>...</td>\n",
       "      <td>...</td>\n",
       "      <td>...</td>\n",
       "      <td>...</td>\n",
       "      <td>...</td>\n",
       "      <td>...</td>\n",
       "      <td>...</td>\n",
       "      <td>...</td>\n",
       "      <td>...</td>\n",
       "      <td>...</td>\n",
       "      <td>...</td>\n",
       "      <td>...</td>\n",
       "      <td>...</td>\n",
       "      <td>...</td>\n",
       "      <td>...</td>\n",
       "      <td>...</td>\n",
       "      <td>...</td>\n",
       "      <td>...</td>\n",
       "      <td>...</td>\n",
       "      <td>...</td>\n",
       "      <td>...</td>\n",
       "    </tr>\n",
       "    <tr>\n",
       "      <th>87186</th>\n",
       "      <td>Rap</td>\n",
       "      <td>6ix9ine</td>\n",
       "      <td>BEBE (feat. Anuel Aa)</td>\n",
       "      <td>Scots</td>\n",
       "      <td>4KkUjFkcQvGvWekl8RATDn</td>\n",
       "      <td>88</td>\n",
       "      <td>0.1720</td>\n",
       "      <td>0.635</td>\n",
       "      <td>217822</td>\n",
       "      <td>0.902</td>\n",
       "      <td>...</td>\n",
       "      <td>0</td>\n",
       "      <td>0</td>\n",
       "      <td>0</td>\n",
       "      <td>0</td>\n",
       "      <td>0</td>\n",
       "      <td>0</td>\n",
       "      <td>0</td>\n",
       "      <td>0</td>\n",
       "      <td>0</td>\n",
       "      <td>0</td>\n",
       "    </tr>\n",
       "    <tr>\n",
       "      <th>107935</th>\n",
       "      <td>Pop</td>\n",
       "      <td>Marshmello</td>\n",
       "      <td>FRIENDS</td>\n",
       "      <td>English</td>\n",
       "      <td>08bNPGLD8AhKpnnERrAc6G</td>\n",
       "      <td>88</td>\n",
       "      <td>0.2050</td>\n",
       "      <td>0.626</td>\n",
       "      <td>202621</td>\n",
       "      <td>0.880</td>\n",
       "      <td>...</td>\n",
       "      <td>0</td>\n",
       "      <td>0</td>\n",
       "      <td>0</td>\n",
       "      <td>0</td>\n",
       "      <td>0</td>\n",
       "      <td>0</td>\n",
       "      <td>0</td>\n",
       "      <td>0</td>\n",
       "      <td>0</td>\n",
       "      <td>0</td>\n",
       "    </tr>\n",
       "    <tr>\n",
       "      <th>108176</th>\n",
       "      <td>Pop</td>\n",
       "      <td>Kygo</td>\n",
       "      <td>Happy Now</td>\n",
       "      <td>English</td>\n",
       "      <td>14sOS5L36385FJ3OL8hew4</td>\n",
       "      <td>88</td>\n",
       "      <td>0.3740</td>\n",
       "      <td>0.693</td>\n",
       "      <td>211362</td>\n",
       "      <td>0.575</td>\n",
       "      <td>...</td>\n",
       "      <td>0</td>\n",
       "      <td>0</td>\n",
       "      <td>0</td>\n",
       "      <td>0</td>\n",
       "      <td>0</td>\n",
       "      <td>0</td>\n",
       "      <td>0</td>\n",
       "      <td>0</td>\n",
       "      <td>0</td>\n",
       "      <td>0</td>\n",
       "    </tr>\n",
       "    <tr>\n",
       "      <th>66634</th>\n",
       "      <td>Hip-Hop</td>\n",
       "      <td>French Montana</td>\n",
       "      <td>No Stylist</td>\n",
       "      <td>English</td>\n",
       "      <td>04MLEeAMuV9IlHEsD8vF6A</td>\n",
       "      <td>88</td>\n",
       "      <td>0.0215</td>\n",
       "      <td>0.765</td>\n",
       "      <td>192172</td>\n",
       "      <td>0.704</td>\n",
       "      <td>...</td>\n",
       "      <td>0</td>\n",
       "      <td>0</td>\n",
       "      <td>0</td>\n",
       "      <td>0</td>\n",
       "      <td>0</td>\n",
       "      <td>0</td>\n",
       "      <td>0</td>\n",
       "      <td>0</td>\n",
       "      <td>0</td>\n",
       "      <td>0</td>\n",
       "    </tr>\n",
       "    <tr>\n",
       "      <th>9058</th>\n",
       "      <td>Dance</td>\n",
       "      <td>The Chainsmokers</td>\n",
       "      <td>Hope</td>\n",
       "      <td>English</td>\n",
       "      <td>4BiiOzZCrXEzHRLYcYFiD5</td>\n",
       "      <td>88</td>\n",
       "      <td>0.4880</td>\n",
       "      <td>0.773</td>\n",
       "      <td>180120</td>\n",
       "      <td>0.699</td>\n",
       "      <td>...</td>\n",
       "      <td>0</td>\n",
       "      <td>0</td>\n",
       "      <td>0</td>\n",
       "      <td>0</td>\n",
       "      <td>0</td>\n",
       "      <td>0</td>\n",
       "      <td>0</td>\n",
       "      <td>0</td>\n",
       "      <td>0</td>\n",
       "      <td>0</td>\n",
       "    </tr>\n",
       "  </tbody>\n",
       "</table>\n",
       "<p>100 rows × 162 columns</p>\n",
       "</div>"
      ],
      "text/plain": [
       "          genre       artist_name                                track_name  \\\n",
       "9027      Dance     Ariana Grande                                   7 rings   \n",
       "86951       Rap       Post Malone                                      Wow.   \n",
       "9026      Dance     Ariana Grande  break up with your girlfriend, i'm bored   \n",
       "66643   Hip-Hop      Daddy Yankee                                 Con Calma   \n",
       "107812      Pop        Marshmello                                   Happier   \n",
       "...         ...               ...                                       ...   \n",
       "87186       Rap           6ix9ine                     BEBE (feat. Anuel Aa)   \n",
       "107935      Pop        Marshmello                                   FRIENDS   \n",
       "108176      Pop              Kygo                                 Happy Now   \n",
       "66634   Hip-Hop    French Montana                                No Stylist   \n",
       "9058      Dance  The Chainsmokers                                      Hope   \n",
       "\n",
       "       track_lang                track_id  popularity  acousticness  \\\n",
       "9027      English  14msK75pk3pA33pzPVNtBF         100        0.5780   \n",
       "86951     English  6MWtB6iiXyIwun0YzU6DFP          99        0.1630   \n",
       "9026      English  4kV4N9D1iKVxx1KLvtTpjS          99        0.0421   \n",
       "66643     English  5w9c2J52mkdntKOmRLeM2m          98        0.1100   \n",
       "107812    English  2dpaYNEQHiRxtZbfNsse99          97        0.1910   \n",
       "...           ...                     ...         ...           ...   \n",
       "87186       Scots  4KkUjFkcQvGvWekl8RATDn          88        0.1720   \n",
       "107935    English  08bNPGLD8AhKpnnERrAc6G          88        0.2050   \n",
       "108176    English  14sOS5L36385FJ3OL8hew4          88        0.3740   \n",
       "66634     English  04MLEeAMuV9IlHEsD8vF6A          88        0.0215   \n",
       "9058      English  4BiiOzZCrXEzHRLYcYFiD5          88        0.4880   \n",
       "\n",
       "        danceability  duration_ms  energy  ...  track_lang_Waray  \\\n",
       "9027           0.725       178640   0.321  ...                 0   \n",
       "86951          0.833       149520   0.539  ...                 0   \n",
       "9026           0.726       190440   0.554  ...                 0   \n",
       "66643          0.737       193227   0.860  ...                 0   \n",
       "107812         0.687       214290   0.792  ...                 0   \n",
       "...              ...          ...     ...  ...               ...   \n",
       "87186          0.635       217822   0.902  ...                 0   \n",
       "107935         0.626       202621   0.880  ...                 0   \n",
       "108176         0.693       211362   0.575  ...                 0   \n",
       "66634          0.765       192172   0.704  ...                 0   \n",
       "9058           0.773       180120   0.699  ...                 0   \n",
       "\n",
       "        track_lang_Welsh  track_lang_Western Frisian  track_lang_Wolof  \\\n",
       "9027                   0                           0                 0   \n",
       "86951                  0                           0                 0   \n",
       "9026                   0                           0                 0   \n",
       "66643                  0                           0                 0   \n",
       "107812                 0                           0                 0   \n",
       "...                  ...                         ...               ...   \n",
       "87186                  0                           0                 0   \n",
       "107935                 0                           0                 0   \n",
       "108176                 0                           0                 0   \n",
       "66634                  0                           0                 0   \n",
       "9058                   0                           0                 0   \n",
       "\n",
       "        track_lang_Xhosa  track_lang_Yoruba  track_lang_Zhuang  \\\n",
       "9027                   0                  0                  0   \n",
       "86951                  0                  0                  0   \n",
       "9026                   0                  0                  0   \n",
       "66643                  0                  0                  0   \n",
       "107812                 0                  0                  0   \n",
       "...                  ...                ...                ...   \n",
       "87186                  0                  0                  0   \n",
       "107935                 0                  0                  0   \n",
       "108176                 0                  0                  0   \n",
       "66634                  0                  0                  0   \n",
       "9058                   0                  0                  0   \n",
       "\n",
       "        track_lang_Zulu  track_lang_un  track_lang_zzp  \n",
       "9027                  0              0               0  \n",
       "86951                 0              0               0  \n",
       "9026                  0              0               0  \n",
       "66643                 0              0               0  \n",
       "107812                0              0               0  \n",
       "...                 ...            ...             ...  \n",
       "87186                 0              0               0  \n",
       "107935                0              0               0  \n",
       "108176                0              0               0  \n",
       "66634                 0              0               0  \n",
       "9058                  0              0               0  \n",
       "\n",
       "[100 rows x 162 columns]"
      ]
     },
     "execution_count": 58,
     "metadata": {},
     "output_type": "execute_result"
    }
   ],
   "source": [
    "# df.genre.value_counts()\n",
    "df.head(100)"
   ]
  },
  {
   "cell_type": "code",
   "execution_count": null,
   "metadata": {},
   "outputs": [],
   "source": [
    "# Ari = df['artist_name'] == \"Ariana Grande\"\n",
    "# df[Ari].head"
   ]
  },
  {
   "cell_type": "code",
   "execution_count": 20,
   "metadata": {},
   "outputs": [
    {
     "data": {
      "text/plain": [
       "Index(['genre', 'artist_name', 'track_name', 'track_lang', 'track_id',\n",
       "       'popularity', 'acousticness', 'danceability', 'duration_ms', 'energy',\n",
       "       ...\n",
       "       'track_lang_Waray', 'track_lang_Welsh', 'track_lang_Western Frisian',\n",
       "       'track_lang_Wolof', 'track_lang_Xhosa', 'track_lang_Yoruba',\n",
       "       'track_lang_Zhuang', 'track_lang_Zulu', 'track_lang_un',\n",
       "       'track_lang_zzp'],\n",
       "      dtype='object', length=162)"
      ]
     },
     "execution_count": 20,
     "metadata": {},
     "output_type": "execute_result"
    }
   ],
   "source": [
    "df.columns"
   ]
  },
  {
   "cell_type": "markdown",
   "metadata": {
    "colab_type": "text",
    "id": "Zw-EHBcot9td"
   },
   "source": [
    "# MODELING: Nearest Neighbors\n",
    "resources: https://scikit-learn.org/stable/modules/neighbors.html"
   ]
  },
  {
   "cell_type": "code",
   "execution_count": 21,
   "metadata": {
    "colab": {},
    "colab_type": "code",
    "id": "hGlvDu8lQfRf"
   },
   "outputs": [
    {
     "name": "stdout",
     "output_type": "stream",
     "text": [
      "Wall time: 0 ns\n"
     ]
    },
    {
     "data": {
      "text/plain": [
       "NearestNeighbors(algorithm='auto', leaf_size=30, metric='minkowski',\n",
       "                 metric_params=None, n_jobs=None, n_neighbors=25, p=2,\n",
       "                 radius=1.0)"
      ]
     },
     "execution_count": 21,
     "metadata": {},
     "output_type": "execute_result"
    }
   ],
   "source": [
    "# instantiate model\n",
    "neigh = NearestNeighbors(n_neighbors=25)\n",
    "not_features = ['genre', 'artist_name', 'track_name', 'track_lang', 'track_id'] # in case someone wants to change it later\n",
    "features =[item for item in list(df.columns) if item not in not_features]\n",
    "X = df[features].values\n",
    "# y = df[target]\n",
    "# X.shape \n",
    "# y.shape\n",
    "# target = 'track_id'\n",
    "\n",
    "%time\n",
    "neigh.fit(X) # NN doesn't need to fit Y"
   ]
  },
  {
   "cell_type": "markdown",
   "metadata": {},
   "source": [
    "# Manual Model Test on 1 Song Example"
   ]
  },
  {
   "cell_type": "code",
   "execution_count": 22,
   "metadata": {
    "colab": {},
    "colab_type": "code",
    "id": "EXgOux8Y1eFF"
   },
   "outputs": [
    {
     "name": "stdout",
     "output_type": "stream",
     "text": [
      "[('The Chainsmokers', 'This Feeling - Young Bombs Remix'), ('Nao', 'Get to Know Ya'), ('Bumkey', 'When I Saw You'), ('Bhavi', 'No Lo Entiendo'), ('Tony Bennett', 'One for My Baby (And One More for the Road)'), ('Authority Zero', 'Bayside'), ('Gringo', 'GIGI (ZKITTLEZ)'), ('Dan Auerbach', 'Never in My Wildest Dreams'), ('Mono:Massive', 'Do Some Real'), ('Yashua', 'Pena'), ('Miguel', 'My Piece'), ('IAMDDB', 'Back Again'), ('Nicky Jam', 'Jaleo'), ('Souleance', 'La Californie'), ('Adriel Favela', 'La Escuela No Me Gustó'), ('Billy Raffoul', 'Driver'), ('A$AP Mob', 'Way Hii'), ('Popcaan', 'Superstar'), ('Leven Kali', 'Joy'), ('Chris Stapleton', 'Second One To Know'), ('SoMo', 'I Wish'), ('One Direction', 'Heart Attack'), ('A$AP Mob', 'Bachelor'), ('Sheena Ringo', '急がば回れ')]\n"
     ]
    }
   ],
   "source": [
    "# random test song\n",
    "\n",
    "test_song = X[8980]\n",
    "df.iloc[8980]\n",
    "\n",
    "distance, neighbors = neigh.kneighbors(np.array([test_song]))\n",
    "distance, neighbors\n",
    "\n",
    "song_list = []\n",
    "for idx in neighbors[0][1:]: # this way excludes itself\n",
    "    row = df.iloc[idx]\n",
    "    # print(f'Artist: {row.artist_name} - Track: {row.track_name}')\n",
    "    song_list.append((row.artist_name, row.track_name))\n",
    "print(song_list)"
   ]
  },
  {
   "cell_type": "markdown",
   "metadata": {},
   "source": [
    "# Helper Function to Return 10 Nearest Neighbors"
   ]
  },
  {
   "cell_type": "code",
   "execution_count": 23,
   "metadata": {},
   "outputs": [],
   "source": [
    "\"\"\"\n",
    "function for what was done manually above\n",
    "generalized for other dataframes instead of hard coded therefore:\n",
    "takes in a dataframe, a feature set array, and a song ID\n",
    "and returns a list of song_id\n",
    "\"\"\"\n",
    "from typing import List, Tuple\n",
    "import random \n",
    "\n",
    "def closest_ten(df: pd.DataFrame, X_array: np.ndarray ,song_id: int) -> List[Tuple] :\n",
    "    song = df.iloc[song_id]\n",
    "    X_song = X[song_id]\n",
    "    _, neighbors = neigh.kneighbors(np.array([X_song]))\n",
    "    song_list = []\n",
    "    for idx in neighbors[0][2:]: \n",
    "        row = df.iloc[idx]\n",
    "       # print(f'Artist: {row.artist_name} - Track: {row.track_name}')\n",
    "        song_list.append(row.track_id)\n",
    "    only_10 = random.sample(song_list, 10)\n",
    "    return(only_10)"
   ]
  },
  {
   "cell_type": "code",
   "execution_count": 24,
   "metadata": {
    "colab": {},
    "colab_type": "code",
    "id": "NXi-FUX6sbWm"
   },
   "outputs": [
    {
     "data": {
      "text/plain": [
       "['2hgzdQdnfWwtdpZbhZlV72',\n",
       " '3q7CL3dh2u23ZQEwixtAIi',\n",
       " '1G576qOKq0CdSGvSmHD4pz',\n",
       " '5AuuQOyOLEP9Lnxp0nLvrQ',\n",
       " '1qZuf7zgRHKgfSijGm2CTy',\n",
       " '3Akw1yw6W6bQ7GXB0FCoe5',\n",
       " '5S9o5O3JJ5SzkimwPVaL26',\n",
       " '6XEbIRw3DVFb6vQftaewOD',\n",
       " '2fRCatGWX9AFqc4VIER4Zu',\n",
       " '7hlLPJo0pxh1jQUERqf5O2']"
      ]
     },
     "execution_count": 24,
     "metadata": {},
     "output_type": "execute_result"
    }
   ],
   "source": [
    "# example of function call \n",
    "closest_ten(df, X, 9027)"
   ]
  },
  {
   "cell_type": "markdown",
   "metadata": {},
   "source": [
    "# PCA -> NN"
   ]
  },
  {
   "cell_type": "code",
   "execution_count": 25,
   "metadata": {},
   "outputs": [],
   "source": [
    "# make copy to transform in case you want to do stuff with the other one later in notebook\n",
    "df_copy = df[features].copy()"
   ]
  },
  {
   "cell_type": "code",
   "execution_count": 26,
   "metadata": {},
   "outputs": [],
   "source": [
    "from numpy import array, mean, std, cov\n",
    "from numpy.linalg import eig\n",
    "from sklearn.preprocessing import StandardScaler\n",
    "from sklearn.decomposition import PCA"
   ]
  },
  {
   "cell_type": "code",
   "execution_count": 27,
   "metadata": {},
   "outputs": [],
   "source": [
    "means = df_copy.mean()\n",
    "# print(\"\\n Means:\", means)\n",
    "scaler = StandardScaler()"
   ]
  },
  {
   "cell_type": "code",
   "execution_count": 40,
   "metadata": {},
   "outputs": [],
   "source": [
    "pca_X = scaler.fit_transform(df_copy.values)\n",
    "# pca = PCA(0.95)\n",
    "pca = PCA(2)\n",
    "df_pca = pca.fit(pca_X)"
   ]
  },
  {
   "cell_type": "code",
   "execution_count": 41,
   "metadata": {},
   "outputs": [
    {
     "name": "stdout",
     "output_type": "stream",
     "text": [
      "[3.91866083 2.12637133]\n"
     ]
    }
   ],
   "source": [
    "print(pca.explained_variance_)"
   ]
  },
  {
   "cell_type": "code",
   "execution_count": 30,
   "metadata": {},
   "outputs": [
    {
     "name": "stdout",
     "output_type": "stream",
     "text": [
      "Wall time: 0 ns\n"
     ]
    },
    {
     "data": {
      "text/plain": [
       "NearestNeighbors(algorithm='auto', leaf_size=30, metric='minkowski',\n",
       "                 metric_params=None, n_jobs=None, n_neighbors=50, p=2,\n",
       "                 radius=1.0)"
      ]
     },
     "execution_count": 30,
     "metadata": {},
     "output_type": "execute_result"
    }
   ],
   "source": [
    "%time\n",
    "pca_neigh = NearestNeighbors(n_neighbors=50)\n",
    "pca_neigh.fit(pca_X) # NN doesn't need to fit Y"
   ]
  },
  {
   "cell_type": "code",
   "execution_count": 86,
   "metadata": {},
   "outputs": [
    {
     "data": {
      "image/png": "[encoded data removed]",
      "text/plain": [
       "<Figure size 842.4x595.44 with 2 Axes>"
      ]
     },
     "metadata": {
      "needs_background": "light"
     },
     "output_type": "display_data"
    }
   ],
   "source": [
    "graph_data = pca.fit_transform(pca_X)\n",
    "fig, ax = plt.subplots(figsize=dims)\n",
    "plt.title('PCA with 2 dimensions')\n",
    "plt.xlabel('component 1')\n",
    "plt.ylabel('component 2')\n",
    "pcachart = plt.scatter(graph_data[:,0], graph_data[:,1])\n",
    "plt.colorbar();\n",
    "\n",
    "f = pcachart.get_figure()\n",
    "f.savefig(\"pcachart.jpg\")"
   ]
  },
  {
   "cell_type": "code",
   "execution_count": 43,
   "metadata": {},
   "outputs": [
    {
     "data": {
      "text/plain": [
       "(75000, 2)"
      ]
     },
     "execution_count": 43,
     "metadata": {},
     "output_type": "execute_result"
    }
   ],
   "source": [
    "graph_data.shape"
   ]
  },
  {
   "cell_type": "code",
   "execution_count": 52,
   "metadata": {},
   "outputs": [],
   "source": [
    "graph_copy = graph_data.copy()"
   ]
  },
  {
   "cell_type": "code",
   "execution_count": 67,
   "metadata": {},
   "outputs": [],
   "source": [
    "graph_copy_df = pd.DataFrame({'PC1': graph_copy[:,0], 'Component 2' : graph_copy[:,1]})"
   ]
  },
  {
   "cell_type": "code",
   "execution_count": 83,
   "metadata": {},
   "outputs": [],
   "source": [
    "from sklearn.cluster import KMeans\n",
    "kmeans = KMeans(n_clusters = 4)\n",
    "X = np.array(graph_copy_df)\n",
    "kmeans.fit(X)\n",
    "clusters = kmeans.predict(X)\n"
   ]
  },
  {
   "cell_type": "code",
   "execution_count": 84,
   "metadata": {},
   "outputs": [
    {
     "data": {
      "text/html": [
       "<div>\n",
       "<style scoped>\n",
       "    .dataframe tbody tr th:only-of-type {\n",
       "        vertical-align: middle;\n",
       "    }\n",
       "\n",
       "    .dataframe tbody tr th {\n",
       "        vertical-align: top;\n",
       "    }\n",
       "\n",
       "    .dataframe thead th {\n",
       "        text-align: right;\n",
       "    }\n",
       "</style>\n",
       "<table border=\"1\" class=\"dataframe\">\n",
       "  <thead>\n",
       "    <tr style=\"text-align: right;\">\n",
       "      <th></th>\n",
       "      <th>PC1</th>\n",
       "      <th>Component 2</th>\n",
       "      <th>clusters</th>\n",
       "    </tr>\n",
       "  </thead>\n",
       "  <tbody>\n",
       "    <tr>\n",
       "      <th>0</th>\n",
       "      <td>-0.300549</td>\n",
       "      <td>-0.496884</td>\n",
       "      <td>1</td>\n",
       "    </tr>\n",
       "    <tr>\n",
       "      <th>1</th>\n",
       "      <td>-1.601315</td>\n",
       "      <td>-0.493805</td>\n",
       "      <td>1</td>\n",
       "    </tr>\n",
       "    <tr>\n",
       "      <th>2</th>\n",
       "      <td>-1.910290</td>\n",
       "      <td>-1.225232</td>\n",
       "      <td>1</td>\n",
       "    </tr>\n",
       "    <tr>\n",
       "      <th>3</th>\n",
       "      <td>-2.674062</td>\n",
       "      <td>-0.593348</td>\n",
       "      <td>1</td>\n",
       "    </tr>\n",
       "    <tr>\n",
       "      <th>4</th>\n",
       "      <td>-2.220831</td>\n",
       "      <td>-1.105946</td>\n",
       "      <td>1</td>\n",
       "    </tr>\n",
       "  </tbody>\n",
       "</table>\n",
       "</div>"
      ],
      "text/plain": [
       "        PC1  Component 2  clusters\n",
       "0 -0.300549    -0.496884         1\n",
       "1 -1.601315    -0.493805         1\n",
       "2 -1.910290    -1.225232         1\n",
       "3 -2.674062    -0.593348         1\n",
       "4 -2.220831    -1.105946         1"
      ]
     },
     "execution_count": 84,
     "metadata": {},
     "output_type": "execute_result"
    }
   ],
   "source": [
    "graph_copy_df['clusters'] = pd.Series(clusters).values\n",
    "graph_copy_df['clusters'].value_counts()\n",
    "\n",
    "centers = kmeans.cluster_centers_\n",
    "graph_copy_df.head()"
   ]
  },
  {
   "cell_type": "code",
   "execution_count": 88,
   "metadata": {},
   "outputs": [
    {
     "data": {
      "image/png": "[encoded data removed]",
      "text/plain": [
       "<Figure size 432x288 with 1 Axes>"
      ]
     },
     "metadata": {
      "needs_background": "light"
     },
     "output_type": "display_data"
    }
   ],
   "source": [
    "plt.title('PCA Clustering')\n",
    "plt.xlabel('component 1')\n",
    "plt.ylabel('component 2')\n",
    "plt.scatter(X[:,0], X[:,1], c=clusters) # auto assign colors to label to differentiate\n",
    "plt.scatter(centers[:,0], centers[:,1], c='red')\n",
    "plt.show()\n",
    "\n",
    "\n",
    "f = pcachart.get_figure()\n",
    "f.savefig(\"pcaclusterchart.jpg\")"
   ]
  },
  {
   "cell_type": "code",
   "execution_count": 31,
   "metadata": {},
   "outputs": [],
   "source": [
    "# refactor later if have time\n",
    "# from sklearn.pipeline import make_pipeline\n",
    "# pipeline = make_pipeline(\n",
    "#     StandardScaler(),\n",
    "#     NearestNeighbors())\n",
    "\n",
    "# pipeline.fit(X)"
   ]
  },
  {
   "cell_type": "markdown",
   "metadata": {},
   "source": [
    "# UNIFINISHED Auto Encoder -> NN"
   ]
  },
  {
   "cell_type": "code",
   "execution_count": 32,
   "metadata": {},
   "outputs": [],
   "source": [
    "# from keras.models import Model"
   ]
  },
  {
   "cell_type": "code",
   "execution_count": 33,
   "metadata": {},
   "outputs": [],
   "source": [
    "# encoding_dim = 10 # compression of factor 4.1 assuming input of 41"
   ]
  },
  {
   "cell_type": "markdown",
   "metadata": {
    "colab_type": "text",
    "id": "38aCXICFoz55"
   },
   "source": [
    "# Export Model with Joblib"
   ]
  },
  {
   "cell_type": "code",
   "execution_count": 34,
   "metadata": {
    "colab": {},
    "colab_type": "code",
    "id": "4SBVgLGvn8hS"
   },
   "outputs": [],
   "source": [
    "filename = 'NearestNeighborGenres.sav'"
   ]
  },
  {
   "cell_type": "code",
   "execution_count": 35,
   "metadata": {
    "colab": {},
    "colab_type": "code",
    "id": "kLfmVJiKoN8X"
   },
   "outputs": [
    {
     "data": {
      "text/plain": [
       "['NearestNeighborGenres.sav']"
      ]
     },
     "execution_count": 35,
     "metadata": {},
     "output_type": "execute_result"
    }
   ],
   "source": [
    "joblib.dump(neigh, filename)"
   ]
  },
  {
   "cell_type": "code",
   "execution_count": 36,
   "metadata": {},
   "outputs": [
    {
     "data": {
      "text/plain": [
       "['PCANearestNeighborGenres.sav']"
      ]
     },
     "execution_count": 36,
     "metadata": {},
     "output_type": "execute_result"
    }
   ],
   "source": [
    "pca_filename = 'PCANearestNeighborGenres.sav'\n",
    "joblib.dump(pca_neigh, pca_filename)"
   ]
  },
  {
   "cell_type": "code",
   "execution_count": 37,
   "metadata": {
    "colab": {},
    "colab_type": "code",
    "id": "VD4hvXIVwyRG"
   },
   "outputs": [],
   "source": [
    "# one hot encoding, rolled back\n",
    "# def encode_and_bind(original_dataframe, feature_to_encode):\n",
    "#     dummies = pd.get_dummies(original_dataframe[[feature_to_encode]])\n",
    "#     res = pd.concat([original_dataframe, dummies], axis=1)\n",
    "#     return(res)\n",
    "\n",
    "# df = encode_and_bind(df, 'key')\n",
    "# df = encode_and_bind(df, 'mode')\n",
    "# df = encode_and_bind(df, 'time_signature')"
   ]
  },
  {
   "cell_type": "markdown",
   "metadata": {},
   "source": [
    "# Export Model with Pickle"
   ]
  },
  {
   "cell_type": "code",
   "execution_count": 38,
   "metadata": {
    "colab": {},
    "colab_type": "code",
    "id": "d0G2dBalpjTx"
   },
   "outputs": [],
   "source": [
    "import pickle\n",
    "\n",
    "model = neigh\n",
    "\n",
    "filename = 'filename.pkl'\n",
    "\n",
    "with open(filename, 'wb') as f:\n",
    "    pickle.dump(model, f)\n",
    "#then send this pkl file to DE team\n",
    "\n",
    "#DE team:\n",
    "#Make sure to save the pkl file in the same folder as the app\n",
    "\n",
    "#To read it into the app:\n",
    "\n",
    "# with open(filename, 'rb') as f:\n",
    "#     model = pickle.load(f)"
   ]
  },
  {
   "cell_type": "code",
   "execution_count": null,
   "metadata": {},
   "outputs": [],
   "source": []
  }
 ],
 "metadata": {
  "colab": {
   "collapsed_sections": [],
   "name": "Spotify_Model.ipynb",
   "private_outputs": true,
   "provenance": []
  },
  "kernelspec": {
   "display_name": "U4-S2-NN",
   "language": "python",
   "name": "u4-s2-nn"
  },
  "language_info": {
   "codemirror_mode": {
    "name": "ipython",
    "version": 3
   },
   "file_extension": ".py",
   "mimetype": "text/x-python",
   "name": "python",
   "nbconvert_exporter": "python",
   "pygments_lexer": "ipython3",
   "version": "3.7.0"
  }
 },
 "nbformat": 4,
 "nbformat_minor": 4
}
