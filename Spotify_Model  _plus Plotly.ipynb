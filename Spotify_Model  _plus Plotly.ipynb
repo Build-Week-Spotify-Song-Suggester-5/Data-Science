{
  "nbformat": 4,
  "nbformat_minor": 0,
  "metadata": {
    "colab": {
      "name": "Spotify_Model.ipynb",
      "provenance": [],
      "private_outputs": true,
      "collapsed_sections": []
    },
    "kernelspec": {
      "display_name": "Python 3",
      "language": "python",
      "name": "python3"
    },
    "language_info": {
      "codemirror_mode": {
        "name": "ipython",
        "version": 3
      },
      "file_extension": ".py",
      "mimetype": "text/x-python",
      "name": "python",
      "nbconvert_exporter": "python",
      "pygments_lexer": "ipython3",
      "version": "3.7.6"
    }
  },
  "cells": [
    {
      "cell_type": "markdown",
      "metadata": {
        "colab_type": "text",
        "id": "kgdLqZi5sa4A"
      },
      "source": [
        "# Imports and Installs"
      ]
    },
    {
      "cell_type": "code",
      "metadata": {
        "colab_type": "code",
        "id": "IzCZwfItsOVX",
        "colab": {}
      },
      "source": [
        "# install latest version of polyglot language detection library for stretch\n",
        "# !pip install -U git+https://github.com/aboSamoor/polyglot.git@master"
      ],
      "execution_count": 0,
      "outputs": []
    },
    {
      "cell_type": "code",
      "metadata": {
        "id": "EjC-ATydZ8wB",
        "colab_type": "code",
        "colab": {}
      },
      "source": [
        "!pip install plotly"
      ],
      "execution_count": 0,
      "outputs": []
    },
    {
      "cell_type": "code",
      "metadata": {
        "colab_type": "code",
        "id": "e2BCdkR4U5SR",
        "colab": {}
      },
      "source": [
        "import pandas as pd\n",
        "import numpy as np \n",
        "import pandas_profiling \n",
        "from sklearn import preprocessing # for category encoder\n",
        "# from polyglot.detect import Detector # for language detection stretch\n",
        "from sklearn.neighbors import NearestNeighbors\n",
        "from sklearn.model_selection import train_test_split\n",
        "# much more efficient for larger files like Nearest Neighbors which the model\n",
        "import joblib\n",
        "import plotly.express as px"
      ],
      "execution_count": 0,
      "outputs": []
    },
    {
      "cell_type": "markdown",
      "metadata": {
        "colab_type": "text",
        "id": "RA1kLoqhsemw"
      },
      "source": [
        "# EDA & PROFILE REPORT"
      ]
    },
    {
      "cell_type": "code",
      "metadata": {
        "colab_type": "code",
        "id": "mGRbNKAzU-sp",
        "colab": {}
      },
      "source": [
        "df = pd.read_csv('https://raw.githubusercontent.com/aguilargallardo/DS-Unit-2-Applied-Modeling/master/data/SpotifyFeatures.csv')\n",
        "# pandas_profiling.ProfileReport(df)"
      ],
      "execution_count": 0,
      "outputs": []
    },
    {
      "cell_type": "code",
      "metadata": {
        "id": "O_5b8zLTaCkE",
        "colab_type": "code",
        "colab": {}
      },
      "source": [
        "df.head()"
      ],
      "execution_count": 0,
      "outputs": []
    },
    {
      "cell_type": "code",
      "metadata": {
        "id": "--SM2qsmag_j",
        "colab_type": "code",
        "colab": {}
      },
      "source": [
        "df.describe()"
      ],
      "execution_count": 0,
      "outputs": []
    },
    {
      "cell_type": "code",
      "metadata": {
        "id": "9OpcU9sjaFJm",
        "colab_type": "code",
        "colab": {}
      },
      "source": [
        "def create_web_chart(df):\n",
        "    music_features = ['acousticness', 'danceability', 'energy', 'instrumentalness', 'liveness', 'speechiness', 'valence']\n",
        "    \n",
        "    fig = go.Figure()\n",
        "\n",
        "    for idx, row in df.iterrows():\n",
        "        # vals = list(df.iloc[idx][music_features].values)\n",
        "        row_df = pd.DataFrame(df.loc[idx][music_features].T).reset_index().rename(columns={idx:'values', 'index':'feature'})\n",
        "        fig.add_trace(go.Scatterpolar(\n",
        "                                    r=row_df['values'],\n",
        "                                    theta=row_df['feature'],\n",
        "                                    fill='toself',\n",
        "                                    name= f'{row.artist_name} - {row.track_name}'\n",
        "                    ))\n",
        "    # fig.show()\n",
        "    return fig\n",
        "\n",
        "fig = create_web_chart(df.iloc[0:5])\n",
        "fig.show()\n",
        "\n",
        "# first_song_values = list(df.iloc[0][music_features].values)\n",
        "# second_song_values = list(df.iloc[1][music_features].values)"
      ],
      "execution_count": 0,
      "outputs": []
    },
    {
      "cell_type": "code",
      "metadata": {
        "id": "0r-WSUSHcMbr",
        "colab_type": "code",
        "colab": {}
      },
      "source": [
        "fig = px.bar(first_song_df, x='feature', y=\"values\", color='feature')\n",
        "fig.show()"
      ],
      "execution_count": 0,
      "outputs": []
    },
    {
      "cell_type": "code",
      "metadata": {
        "id": "AKP2nG-bf_b2",
        "colab_type": "code",
        "colab": {}
      },
      "source": [
        "fig.add_trace(go.Scatterpolar(\n",
        "      r=second_song_df['values'],\n",
        "      theta=second_song_df['feature'],\n",
        "      fill='toself',\n",
        "      name='Second Song'\n",
        "))\n",
        "\n",
        "fig.update_layout(\n",
        "  polar=dict(\n",
        "    radialaxis=dict(\n",
        "      visible=True,\n",
        "      range=[0, 1]\n",
        "    )),\n",
        "  showlegend=True\n",
        ")\n",
        "\n",
        "fig.show()"
      ],
      "execution_count": 0,
      "outputs": []
    },
    {
      "cell_type": "code",
      "metadata": {
        "id": "sWW9zCGvy9FJ",
        "colab_type": "code",
        "colab": {}
      },
      "source": [
        "df.isna().sum()"
      ],
      "execution_count": 0,
      "outputs": []
    },
    {
      "cell_type": "markdown",
      "metadata": {
        "colab_type": "text",
        "id": "l3YOD4aFtUfj"
      },
      "source": [
        "# DATA ENGINEERING CATEGORY ENCODING OF OBJECT FEATURES\n",
        "note: might need to create another column of encoded languages\n",
        "resources below: https://chrisalbon.com/machine_learning/preprocessing_structured_data/convert_pandas_categorical_column_into_integers_for_scikit-learn/\n"
      ]
    },
    {
      "cell_type": "code",
      "metadata": {
        "colab_type": "code",
        "id": "ZPBCYrRgj0GC",
        "colab": {}
      },
      "source": [
        "# # test of polyglot detector\n",
        "\n",
        "# arabic_text = u\"\"\"\n",
        "# أفاد مصدر امني في قيادة عمليات صلاح الدين في العراق بأن \" القوات الامنية تتوقف لليوم\n",
        "# الثالث على التوالي عن التقدم الى داخل مدينة تكريت بسبب\n",
        "# انتشار قناصي التنظيم الذي يطلق على نفسه اسم \"الدولة الاسلامية\" والعبوات الناسفة\n",
        "# والمنازل المفخخة والانتحاريين، فضلا عن ان القوات الامنية تنتظر وصول تعزيزات اضافية \".\n",
        "# \"\"\"\n",
        "\n",
        "# detector = Detector(arabic_text)\n",
        "# print(detector.language)\n",
        "\n",
        "\"\"\"\n",
        "   TODO: figure out UTF-8 ERROR or just do try catch exception and return \n",
        "   unknown or something\n",
        "   below code does not work\n",
        "\"\"\"\n",
        "\n",
        "# df.track_name = df.track_name.astype(str)\n",
        "# df['poly_obj'] = df.track_name.apply(lambda x: Detector(x, quiet=True))\n",
        "# df['Track-lang'] = df['poly_obj'].apply(lambda x: icu.Locale.getDisplayName(x.language.locale))\n",
        "# df['Track-LangConfidence'] = df['poly_obj'].apply( lambda x: x.language.confidence)\n"
      ],
      "execution_count": 0,
      "outputs": []
    },
    {
      "cell_type": "code",
      "metadata": {
        "id": "eq241EBJzO9J",
        "colab_type": "code",
        "colab": {}
      },
      "source": [
        "df.key.unique()"
      ],
      "execution_count": 0,
      "outputs": []
    },
    {
      "cell_type": "code",
      "metadata": {
        "id": "AHxkxlbUzV_Z",
        "colab_type": "code",
        "colab": {}
      },
      "source": [
        "df.key.value_counts()"
      ],
      "execution_count": 0,
      "outputs": []
    },
    {
      "cell_type": "code",
      "metadata": {
        "id": "Ye5e46vbZdHJ",
        "colab_type": "code",
        "colab": {}
      },
      "source": [
        "# df = df.dropna() # drop null values\n",
        "\n",
        "def pre_process(df):\n",
        "    time_sig_encoding = { '0/4' : 0, '1/4' : 1, \n",
        "                     '3/4' : 3, '4/4' : 4,\n",
        "                     '5/4' : 5}\n",
        "\n",
        "    key_encoding = { 'A' : 0, 'A#' : 1, 'B' : 2,\n",
        "                'C' : 3,  'C#' : 4,  'D' : 5,\n",
        "                'D#' : 6, 'E' : 7, 'F' : 8,\n",
        "                'F#' : 9, 'G' : 10, 'G#' : 11 }\n",
        "\n",
        "    mode_encoding = { 'Major':0, 'Minor':1}      \n",
        "\n",
        "    df['key'] = df['key'].map(key_encoding)\n",
        "    df['time_signature'] = df['time_signature'].map(time_sig_encoding)\n",
        "    df['mode'] = df['mode'].map(mode_encoding)\n",
        "\n",
        "    # helper function to one hot encode genre\n",
        "    def encode_and_bind(original_dataframe, feature_to_encode):\n",
        "        dummies = pd.get_dummies(original_dataframe[[feature_to_encode]])\n",
        "        res = pd.concat([original_dataframe, dummies], axis=1)\n",
        "        return(res)\n",
        "\n",
        "    df = encode_and_bind(df, 'genre')\n",
        "    return df\n",
        "\n",
        "processed_df = pre_process(df)\n",
        "\n",
        "# df = df.dropna() # drop null values again not sure why it created null values"
      ],
      "execution_count": 0,
      "outputs": []
    },
    {
      "cell_type": "markdown",
      "metadata": {
        "colab_type": "text",
        "id": "Zw-EHBcot9td"
      },
      "source": [
        "# MODELING: Nearest Neighbors\n",
        "resources: https://scikit-learn.org/stable/modules/neighbors.html"
      ]
    },
    {
      "cell_type": "code",
      "metadata": {
        "colab_type": "code",
        "id": "KE5ePbh_KCxb",
        "colab": {}
      },
      "source": [
        "neigh = NearestNeighbors(n_neighbors=10)"
      ],
      "execution_count": 0,
      "outputs": []
    },
    {
      "cell_type": "code",
      "metadata": {
        "colab_type": "code",
        "id": "hGlvDu8lQfRf",
        "colab": {}
      },
      "source": [
        "# to remove the transformed columns from model \n",
        "# remove = ['key', 'mode','time_signature']\n",
        "# features = [i for i in list(df.columns[4:]) if i not in remove]\n",
        "\n",
        "features = list(processed_df.columns[4:])\n",
        "\n",
        "# target = 'track_id'"
      ],
      "execution_count": 0,
      "outputs": []
    },
    {
      "cell_type": "code",
      "metadata": {
        "colab_type": "code",
        "id": "dsJSuEj6Q1eT",
        "colab": {}
      },
      "source": [
        "X = processed_df[features].values\n",
        "# y = df[target]\n",
        "\n",
        "X.shape # y.shape"
      ],
      "execution_count": 0,
      "outputs": []
    },
    {
      "cell_type": "code",
      "metadata": {
        "colab_type": "code",
        "id": "D4kA2zQmORy3",
        "colab": {}
      },
      "source": [
        "%time\n",
        "neigh.fit(X) # NN doesn't need to fit Y"
      ],
      "execution_count": 0,
      "outputs": []
    },
    {
      "cell_type": "code",
      "metadata": {
        "id": "EXgOux8Y1eFF",
        "colab_type": "code",
        "colab": {}
      },
      "source": [
        "# random ariana grande song \n",
        "test_song = X[9027] \n",
        "\n",
        "df.iloc[9027]"
      ],
      "execution_count": 0,
      "outputs": []
    },
    {
      "cell_type": "code",
      "metadata": {
        "id": "zRXHue0N1Ekk",
        "colab_type": "code",
        "colab": {}
      },
      "source": [
        "distance, neighbors = neigh.kneighbors(np.array([test_song]))\n",
        "\n",
        "distance"
      ],
      "execution_count": 0,
      "outputs": []
    },
    {
      "cell_type": "code",
      "metadata": {
        "id": "z_DLLPJgjzo-",
        "colab_type": "code",
        "colab": {}
      },
      "source": [
        "neighbors"
      ],
      "execution_count": 0,
      "outputs": []
    },
    {
      "cell_type": "code",
      "metadata": {
        "id": "oUEGspZzjsHq",
        "colab_type": "code",
        "colab": {}
      },
      "source": [
        "neighbors_df = df.iloc[neighbors[0]]"
      ],
      "execution_count": 0,
      "outputs": []
    },
    {
      "cell_type": "code",
      "metadata": {
        "id": "DSjA-vST4lVn",
        "colab_type": "code",
        "colab": {}
      },
      "source": [
        "fig = create_web_chart(neighbors_df)\n",
        "fig.show()"
      ],
      "execution_count": 0,
      "outputs": []
    },
    {
      "cell_type": "code",
      "metadata": {
        "id": "6q5E6F9d3rI3",
        "colab_type": "code",
        "colab": {}
      },
      "source": [
        "for idx in neighbors[0][1:]:\n",
        "    row = df.iloc[idx]\n",
        "    print(f'Artist: {row.artist_name} - Track: {row.track_name}')"
      ],
      "execution_count": 0,
      "outputs": []
    },
    {
      "cell_type": "code",
      "metadata": {
        "id": "NXi-FUX6sbWm",
        "colab_type": "code",
        "colab": {}
      },
      "source": [
        "# make a function that takes a song ID\n",
        "# and returns a list of the "
      ],
      "execution_count": 0,
      "outputs": []
    },
    {
      "cell_type": "markdown",
      "metadata": {
        "id": "38aCXICFoz55",
        "colab_type": "text"
      },
      "source": [
        "# Export Model with Joblib"
      ]
    },
    {
      "cell_type": "code",
      "metadata": {
        "id": "4SBVgLGvn8hS",
        "colab_type": "code",
        "colab": {}
      },
      "source": [
        "filename = 'NearestNeighborGenres.sav'"
      ],
      "execution_count": 0,
      "outputs": []
    },
    {
      "cell_type": "code",
      "metadata": {
        "id": "kLfmVJiKoN8X",
        "colab_type": "code",
        "colab": {}
      },
      "source": [
        "joblib.dump(neigh, filename)"
      ],
      "execution_count": 0,
      "outputs": []
    },
    {
      "cell_type": "code",
      "metadata": {
        "id": "VD4hvXIVwyRG",
        "colab_type": "code",
        "colab": {}
      },
      "source": [
        "# one hot encoding, rolled back\n",
        "# def encode_and_bind(original_dataframe, feature_to_encode):\n",
        "#     dummies = pd.get_dummies(original_dataframe[[feature_to_encode]])\n",
        "#     res = pd.concat([original_dataframe, dummies], axis=1)\n",
        "#     return(res)\n",
        "\n",
        "# df = encode_and_bind(df, 'key')\n",
        "# df = encode_and_bind(df, 'mode')\n",
        "# df = encode_and_bind(df, 'time_signature')"
      ],
      "execution_count": 0,
      "outputs": []
    },
    {
      "cell_type": "code",
      "metadata": {
        "id": "d0G2dBalpjTx",
        "colab_type": "code",
        "colab": {}
      },
      "source": [
        "import pickle\n",
        "\n",
        "model = #whatever your model is (AFTER training)\n",
        "\n",
        "#to save the model variable as a pickle file:\n",
        "\n",
        "filename = 'filename.pkl'\n",
        "\n",
        "with open(filename, 'wb') as f:\n",
        "    pickle.dump(model, f)\n",
        "#then send this pkl file to DE team\n",
        "\n",
        "#DE team:\n",
        "#Make sure to save the pkl file in the same folder as the app\n",
        "\n",
        "#To read it into the app:\n",
        "\n",
        "with open(filename, 'rb') as f:\n",
        "    model = pickle.load(f)"
      ],
      "execution_count": 0,
      "outputs": []
    }
  ]
}