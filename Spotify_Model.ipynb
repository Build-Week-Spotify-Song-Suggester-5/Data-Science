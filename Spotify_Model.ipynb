{
  "nbformat": 4,
  "nbformat_minor": 0,
  "metadata": {
    "colab": {
      "name": "Spotify_Model.ipynb",
      "provenance": [],
      "private_outputs": true,
      "collapsed_sections": []
    },
    "kernelspec": {
      "display_name": "Python 3",
      "language": "python",
      "name": "python3"
    },
    "language_info": {
      "codemirror_mode": {
        "name": "ipython",
        "version": 3
      },
      "file_extension": ".py",
      "mimetype": "text/x-python",
      "name": "python",
      "nbconvert_exporter": "python",
      "pygments_lexer": "ipython3",
      "version": "3.7.6"
    }
  },
  "cells": [
    {
      "cell_type": "markdown",
      "metadata": {
        "colab_type": "text",
        "id": "kgdLqZi5sa4A"
      },
      "source": [
        "# Imports and Installs"
      ]
    },
    {
      "cell_type": "code",
      "metadata": {
        "colab_type": "code",
        "id": "IzCZwfItsOVX",
        "colab": {}
      },
      "source": [
        "# install latest version of polyglot language detection library for stretch\n",
        "!pip install -U git+https://github.com/aboSamoor/polyglot.git@master"
      ],
      "execution_count": 0,
      "outputs": []
    },
    {
      "cell_type": "code",
      "metadata": {
        "colab_type": "code",
        "id": "e2BCdkR4U5SR",
        "colab": {}
      },
      "source": [
        "import pandas as pd\n",
        "import numpy as np \n",
        "import pandas_profiling \n",
        "from sklearn import preprocessing # for category encoder\n",
        "from polyglot.detect import Detector # for language detection stretch\n",
        "from sklearn.neighbors import NearestNeighbors\n",
        "from sklearn.model_selection import train_test_split\n",
        "# much more efficient for larger files like Nearest Neighbors which the model\n",
        "import joblib"
      ],
      "execution_count": 0,
      "outputs": []
    },
    {
      "cell_type": "markdown",
      "metadata": {
        "colab_type": "text",
        "id": "RA1kLoqhsemw"
      },
      "source": [
        "# EDA & PROFILE REPORT"
      ]
    },
    {
      "cell_type": "code",
      "metadata": {
        "colab_type": "code",
        "id": "mGRbNKAzU-sp",
        "colab": {}
      },
      "source": [
        "df = pd.read_csv('https://raw.githubusercontent.com/aguilargallardo/DS-Unit-2-Applied-Modeling/master/data/SpotifyFeatures.csv')"
      ],
      "execution_count": 0,
      "outputs": []
    },
    {
      "cell_type": "code",
      "metadata": {
        "colab_type": "code",
        "id": "B5D76wyCU8l3",
        "colab": {}
      },
      "source": [
        "# pandas_profiling.ProfileReport(df)"
      ],
      "execution_count": 0,
      "outputs": []
    },
    {
      "cell_type": "markdown",
      "metadata": {
        "colab_type": "text",
        "id": "7NnGXkWYs3-0"
      },
      "source": [
        "# Data Engineering Language Detection (Stretch, not working yet)"
      ]
    },
    {
      "cell_type": "code",
      "metadata": {
        "colab_type": "code",
        "id": "ZPBCYrRgj0GC",
        "colab": {}
      },
      "source": [
        "# # test of polyglot detector\n",
        "\n",
        "# arabic_text = u\"\"\"\n",
        "# أفاد مصدر امني في قيادة عمليات صلاح الدين في العراق بأن \" القوات الامنية تتوقف لليوم\n",
        "# الثالث على التوالي عن التقدم الى داخل مدينة تكريت بسبب\n",
        "# انتشار قناصي التنظيم الذي يطلق على نفسه اسم \"الدولة الاسلامية\" والعبوات الناسفة\n",
        "# والمنازل المفخخة والانتحاريين، فضلا عن ان القوات الامنية تنتظر وصول تعزيزات اضافية \".\n",
        "# \"\"\"\n",
        "\n",
        "# detector = Detector(arabic_text)\n",
        "# print(detector.language)"
      ],
      "execution_count": 0,
      "outputs": []
    },
    {
      "cell_type": "code",
      "metadata": {
        "colab_type": "code",
        "id": "Gmz9VpoQkf4i",
        "colab": {}
      },
      "source": [
        "\"\"\"\n",
        "   TODO: figure out UTF-8 ERROR or just do try catch exception and return \n",
        "   unknown or something\n",
        "   below code does not work\n",
        "\"\"\"\n",
        "\n",
        "# df.track_name = df.track_name.astype(str)\n",
        "# df['poly_obj'] = df.track_name.apply(lambda x: Detector(x, quiet=True))\n",
        "# df['Track-lang'] = df['poly_obj'].apply(lambda x: icu.Locale.getDisplayName(x.language.locale))\n",
        "# df['Track-LangConfidence'] = df['poly_obj'].apply( lambda x: x.language.confidence)\n"
      ],
      "execution_count": 0,
      "outputs": []
    },
    {
      "cell_type": "markdown",
      "metadata": {
        "colab_type": "text",
        "id": "l3YOD4aFtUfj"
      },
      "source": [
        "# DATA ENGINEERING CATEGORY ENCODING OF OBJECT FEATURES\n",
        "note: might need to create another column of encoded languages\n",
        "resources below: https://chrisalbon.com/machine_learning/preprocessing_structured_data/convert_pandas_categorical_column_into_integers_for_scikit-learn/\n"
      ]
    },
    {
      "cell_type": "code",
      "metadata": {
        "id": "2ZVNrpVAcmup",
        "colab_type": "code",
        "colab": {}
      },
      "source": [
        "df = df.dropna()"
      ],
      "execution_count": 0,
      "outputs": []
    },
    {
      "cell_type": "code",
      "metadata": {
        "id": "eqT54m-LSnTH",
        "colab_type": "code",
        "colab": {}
      },
      "source": [
        "df.key.value_counts()"
      ],
      "execution_count": 0,
      "outputs": []
    },
    {
      "cell_type": "code",
      "metadata": {
        "id": "Ye5e46vbZdHJ",
        "colab_type": "code",
        "colab": {}
      },
      "source": [
        "time_sig_encoding = { '0/4' : 0, '1/4' : 1, \n",
        "                     '3/4' : 3, '4/4' : 4,\n",
        "                     '5/4' : 5}"
      ],
      "execution_count": 0,
      "outputs": []
    },
    {
      "cell_type": "code",
      "metadata": {
        "id": "0RxZJth_S_ew",
        "colab_type": "code",
        "colab": {}
      },
      "source": [
        "key_encoding = { 'A' : 0, 'A#' : 1, 'B' : 2,\n",
        "                'C' : 3,  'C#' : 4,  'D' : 5,\n",
        "                'D#' : 6, 'E' : 7, 'F' : 8,\n",
        "                'F#' : 9, 'G' : 10, ' G#' : 11 }  "
      ],
      "execution_count": 0,
      "outputs": []
    },
    {
      "cell_type": "code",
      "metadata": {
        "id": "wNQi193Bc5Xr",
        "colab_type": "code",
        "colab": {}
      },
      "source": [
        "mode_encoding = { 'Major':0, 'Minor':1}"
      ],
      "execution_count": 0,
      "outputs": []
    },
    {
      "cell_type": "code",
      "metadata": {
        "id": "m4NMxwUTc8d4",
        "colab_type": "code",
        "colab": {}
      },
      "source": [
        "df['mode'].value_counts()"
      ],
      "execution_count": 0,
      "outputs": []
    },
    {
      "cell_type": "code",
      "metadata": {
        "id": "PhhmdU2eYLsJ",
        "colab_type": "code",
        "colab": {}
      },
      "source": [
        "df['key'] = df['key'].map(key_encoding)"
      ],
      "execution_count": 0,
      "outputs": []
    },
    {
      "cell_type": "code",
      "metadata": {
        "id": "N_EBQKlLa1sy",
        "colab_type": "code",
        "colab": {}
      },
      "source": [
        "df['time_signature'] = df['time_signature'].map(time_sig_encoding)"
      ],
      "execution_count": 0,
      "outputs": []
    },
    {
      "cell_type": "code",
      "metadata": {
        "id": "rqi-VvxtbBp6",
        "colab_type": "code",
        "colab": {}
      },
      "source": [
        "df['mode'] = df['mode'].map(mode_encoding)"
      ],
      "execution_count": 0,
      "outputs": []
    },
    {
      "cell_type": "code",
      "metadata": {
        "colab_type": "code",
        "id": "2VusgmXCqSyp",
        "colab": {}
      },
      "source": [
        "# check worked out\n",
        "df.dtypes"
      ],
      "execution_count": 0,
      "outputs": []
    },
    {
      "cell_type": "code",
      "metadata": {
        "id": "PlBJgTWOeFBq",
        "colab_type": "code",
        "colab": {}
      },
      "source": [
        "cols = list(df.columns)\n",
        "cols = [cols[0]] + cols[0:]\n",
        "df = df[cols]"
      ],
      "execution_count": 0,
      "outputs": []
    },
    {
      "cell_type": "code",
      "metadata": {
        "id": "cJbOqx8NdyJU",
        "colab_type": "code",
        "colab": {}
      },
      "source": [
        "df.head(1)"
      ],
      "execution_count": 0,
      "outputs": []
    },
    {
      "cell_type": "code",
      "metadata": {
        "id": "VaZ6cmvmdP7n",
        "colab_type": "code",
        "colab": {}
      },
      "source": [
        "df['genre'].value_counts()"
      ],
      "execution_count": 0,
      "outputs": []
    },
    {
      "cell_type": "markdown",
      "metadata": {
        "colab_type": "text",
        "id": "Zw-EHBcot9td"
      },
      "source": [
        "# MODELING: Nearest Neighbors\n",
        "resources: https://scikit-learn.org/stable/modules/neighbors.html"
      ]
    },
    {
      "cell_type": "code",
      "metadata": {
        "colab_type": "code",
        "id": "KE5ePbh_KCxb",
        "colab": {}
      },
      "source": [
        "neigh = NearestNeighbors()"
      ],
      "execution_count": 0,
      "outputs": []
    },
    {
      "cell_type": "code",
      "metadata": {
        "colab_type": "code",
        "id": "hGlvDu8lQfRf",
        "colab": {}
      },
      "source": [
        "# to remove the transformed columns from model \n",
        "# remove = ['key', 'mode','time_signature']\n",
        "# features = [i for i in list(df.columns[4:]) if i not in remove]\n",
        "\n",
        "features = list(df.columns[4:])\n",
        "\n",
        "# target = 'track_id'"
      ],
      "execution_count": 0,
      "outputs": []
    },
    {
      "cell_type": "code",
      "metadata": {
        "colab_type": "code",
        "id": "dsJSuEj6Q1eT",
        "colab": {}
      },
      "source": [
        "X = df[features]\n",
        "# y = df[target]\n",
        "\n",
        "X.shape # y.shape"
      ],
      "execution_count": 0,
      "outputs": []
    },
    {
      "cell_type": "code",
      "metadata": {
        "colab_type": "code",
        "id": "D4kA2zQmORy3",
        "colab": {}
      },
      "source": [
        "neigh.fit(X) # NN doesn't need to fit Y"
      ],
      "execution_count": 0,
      "outputs": []
    },
    {
      "cell_type": "markdown",
      "metadata": {
        "id": "38aCXICFoz55",
        "colab_type": "text"
      },
      "source": [
        "# Export Model with Joblib"
      ]
    },
    {
      "cell_type": "code",
      "metadata": {
        "id": "4SBVgLGvn8hS",
        "colab_type": "code",
        "colab": {}
      },
      "source": [
        "filename = 'NearestNeighbor2.sav'"
      ],
      "execution_count": 0,
      "outputs": []
    },
    {
      "cell_type": "code",
      "metadata": {
        "id": "kLfmVJiKoN8X",
        "colab_type": "code",
        "colab": {}
      },
      "source": [
        "joblib.dump(neigh, filename)"
      ],
      "execution_count": 0,
      "outputs": []
    },
    {
      "cell_type": "code",
      "metadata": {
        "id": "VD4hvXIVwyRG",
        "colab_type": "code",
        "colab": {}
      },
      "source": [
        "# one hot encoding, rolled back\n",
        "# def encode_and_bind(original_dataframe, feature_to_encode):\n",
        "#     dummies = pd.get_dummies(original_dataframe[[feature_to_encode]])\n",
        "#     res = pd.concat([original_dataframe, dummies], axis=1)\n",
        "#     return(res)\n",
        "\n",
        "# df = encode_and_bind(df, 'key')\n",
        "# df = encode_and_bind(df, 'mode')\n",
        "# df = encode_and_bind(df, 'time_signature')"
      ],
      "execution_count": 0,
      "outputs": []
    }
  ]
}