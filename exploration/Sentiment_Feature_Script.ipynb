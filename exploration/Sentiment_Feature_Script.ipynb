{
  "nbformat": 4,
  "nbformat_minor": 0,
  "metadata": {
    "colab": {
      "name": "Sentiment Feature Script.ipynb",
      "provenance": [],
      "private_outputs": true
    },
    "kernelspec": {
      "name": "python3",
      "display_name": "Python 3"
    }
  },
  "cells": [
    {
      "cell_type": "code",
      "metadata": {
        "id": "1Nqbj2INx8Us",
        "colab_type": "code",
        "colab": {}
      },
      "source": [
        "# !pip3 install flair\n",
        "import pandas as pd\n",
        "import seaborn as sns\n",
        "import flair\n",
        "flair_sentiment = flair.models.TextClassifier.load('en-sentiment')"
      ],
      "execution_count": 0,
      "outputs": []
    },
    {
      "cell_type": "code",
      "metadata": {
        "id": "B_JaXlLVyGsf",
        "colab_type": "code",
        "colab": {}
      },
      "source": [
        "df = pd.read_csv('https://raw.githubusercontent.com/Build-Week-Spotify-Song-Suggester-5/Data-Science/master/spotify_unique_track_id_lang.csv')\n",
        "df.shape"
      ],
      "execution_count": 0,
      "outputs": []
    },
    {
      "cell_type": "code",
      "metadata": {
        "id": "9HqkMiVayJdM",
        "colab_type": "code",
        "colab": {}
      },
      "source": [
        "def get_sentiment(track_name):\n",
        "    s = flair.data.Sentence(track_name)\n",
        "    try:\n",
        "        flair_sentiment.predict(s)\n",
        "        total_sentiment = s.labels\n",
        "        return(total_sentiment)\n",
        "    except:\n",
        "        return(0)"
      ],
      "execution_count": 0,
      "outputs": []
    },
    {
      "cell_type": "code",
      "metadata": {
        "id": "lA5YL40qyLNc",
        "colab_type": "code",
        "colab": {}
      },
      "source": [
        "%time\n",
        "df = df.drop_duplicates(subset=['track_name', 'artist_name'])\n",
        "df = df.sort_values('popularity', ascending=False)[:75000]\n",
        "df.shape"
      ],
      "execution_count": 0,
      "outputs": []
    },
    {
      "cell_type": "code",
      "metadata": {
        "id": "CDbxWEwr18ka",
        "colab_type": "code",
        "colab": {}
      },
      "source": [
        "Eng = df['track_lang'] == \"English\"\n",
        "Edf = df[Eng]\n",
        "Edf.shape"
      ],
      "execution_count": 0,
      "outputs": []
    },
    {
      "cell_type": "code",
      "metadata": {
        "id": "DvxGL3Ve2TMW",
        "colab_type": "code",
        "colab": {}
      },
      "source": [
        "non_Eng = df['track_lang'] != \"English\"\n",
        "nEdf = df[non_Eng]\n",
        "nEdf.shape"
      ],
      "execution_count": 0,
      "outputs": []
    },
    {
      "cell_type": "code",
      "metadata": {
        "id": "vcLM7j8v0bvW",
        "colab_type": "code",
        "colab": {}
      },
      "source": [
        "%time\n",
        "Edf['track_sentiment'] = Edf['track_name'].apply(get_sentiment)"
      ],
      "execution_count": 0,
      "outputs": []
    },
    {
      "cell_type": "code",
      "metadata": {
        "id": "uqyaOYFv0cva",
        "colab_type": "code",
        "colab": {}
      },
      "source": [
        "Edf.head(5)"
      ],
      "execution_count": 0,
      "outputs": []
    },
    {
      "cell_type": "code",
      "metadata": {
        "id": "uVnxiamc0u5m",
        "colab_type": "code",
        "colab": {}
      },
      "source": [
        "# set these all to zero \n",
        "nEdf['track_sentiment'] = 0"
      ],
      "execution_count": 0,
      "outputs": []
    },
    {
      "cell_type": "code",
      "metadata": {
        "id": "8Eu22bOl3nwB",
        "colab_type": "code",
        "colab": {}
      },
      "source": [
        "result = pd.concat([Edf, nEdf])\n",
        "\n",
        "result.to_csv('spotify_unique_track_lang_sentiment.csv', index=False)"
      ],
      "execution_count": 0,
      "outputs": []
    }
  ]
}